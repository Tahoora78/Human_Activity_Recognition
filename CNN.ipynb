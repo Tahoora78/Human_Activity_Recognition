{
 "cells": [
  {
   "cell_type": "code",
   "execution_count": 1,
   "metadata": {
    "collapsed": true,
    "ExecuteTime": {
     "start_time": "2023-04-03T00:35:05.329777Z",
     "end_time": "2023-04-03T00:35:08.719104Z"
    }
   },
   "outputs": [
    {
     "name": "stderr",
     "output_type": "stream",
     "text": [
      "2023-04-03 00:35:06.061944: I tensorflow/core/platform/cpu_feature_guard.cc:193] This TensorFlow binary is optimized with oneAPI Deep Neural Network Library (oneDNN) to use the following CPU instructions in performance-critical operations:  AVX2 FMA\n",
      "To enable them in other operations, rebuild TensorFlow with the appropriate compiler flags.\n",
      "2023-04-03 00:35:06.493469: W tensorflow/compiler/xla/stream_executor/platform/default/dso_loader.cc:64] Could not load dynamic library 'libcudart.so.11.0'; dlerror: libcudart.so.11.0: cannot open shared object file: No such file or directory\n",
      "2023-04-03 00:35:06.493522: I tensorflow/compiler/xla/stream_executor/cuda/cudart_stub.cc:29] Ignore above cudart dlerror if you do not have a GPU set up on your machine.\n",
      "2023-04-03 00:35:07.718004: W tensorflow/compiler/xla/stream_executor/platform/default/dso_loader.cc:64] Could not load dynamic library 'libnvinfer.so.7'; dlerror: libnvinfer.so.7: cannot open shared object file: No such file or directory\n",
      "2023-04-03 00:35:07.718188: W tensorflow/compiler/xla/stream_executor/platform/default/dso_loader.cc:64] Could not load dynamic library 'libnvinfer_plugin.so.7'; dlerror: libnvinfer_plugin.so.7: cannot open shared object file: No such file or directory\n",
      "2023-04-03 00:35:07.718208: W tensorflow/compiler/tf2tensorrt/utils/py_utils.cc:38] TF-TRT Warning: Cannot dlopen some TensorRT libraries. If you would like to use Nvidia GPU with TensorRT, please make sure the missing libraries mentioned above are installed properly.\n"
     ]
    }
   ],
   "source": [
    "import pandas as pd\n",
    "import numpy as np\n",
    "import matplotlib.pyplot as plt\n",
    "\n",
    "import tensorflow as tf\n",
    "from tensorflow.keras.layers import Dense, Input, GlobalMaxPooling1D\n",
    "from tensorflow.keras.layers import Conv1D, MaxPooling1D\n",
    "from tensorflow.keras.models import Model\n",
    "\n",
    "np.random.seed(123)\n",
    "tf.random.set_seed(123)"
   ]
  },
  {
   "cell_type": "code",
   "execution_count": 2,
   "outputs": [
    {
     "name": "stdout",
     "output_type": "stream",
     "text": [
      "Requirement already satisfied: scikit-learn in /home/tahoora/Projects/imageEnv/lib/python3.10/site-packages (1.2.2)\r\n",
      "Requirement already satisfied: threadpoolctl>=2.0.0 in /home/tahoora/Projects/imageEnv/lib/python3.10/site-packages (from scikit-learn) (3.1.0)\r\n",
      "Requirement already satisfied: numpy>=1.17.3 in /home/tahoora/Projects/imageEnv/lib/python3.10/site-packages (from scikit-learn) (1.24.2)\r\n",
      "Requirement already satisfied: joblib>=1.1.1 in /home/tahoora/Projects/imageEnv/lib/python3.10/site-packages (from scikit-learn) (1.2.0)\r\n",
      "Requirement already satisfied: scipy>=1.3.2 in /home/tahoora/Projects/imageEnv/lib/python3.10/site-packages (from scikit-learn) (1.10.1)\r\n"
     ]
    }
   ],
   "source": [
    "!pip install -U scikit-learn"
   ],
   "metadata": {
    "collapsed": false,
    "ExecuteTime": {
     "start_time": "2023-04-03T00:35:08.722082Z",
     "end_time": "2023-04-03T00:35:11.075449Z"
    }
   }
  },
  {
   "cell_type": "code",
   "execution_count": 3,
   "outputs": [],
   "source": [
    "from sklearn.metrics import mean_absolute_error"
   ],
   "metadata": {
    "collapsed": false,
    "ExecuteTime": {
     "start_time": "2023-04-03T00:35:11.088427Z",
     "end_time": "2023-04-03T00:35:11.526537Z"
    }
   }
  },
  {
   "cell_type": "code",
   "execution_count": 4,
   "outputs": [
    {
     "data": {
      "text/plain": "            Passengers\nMonth                 \n1949-01-01         112\n1949-02-01         118\n1949-03-01         132\n1949-04-01         129\n1949-05-01         121\n...                ...\n1960-08-01         606\n1960-09-01         508\n1960-10-01         461\n1960-11-01         390\n1960-12-01         432\n\n[144 rows x 1 columns]",
      "text/html": "<div>\n<style scoped>\n    .dataframe tbody tr th:only-of-type {\n        vertical-align: middle;\n    }\n\n    .dataframe tbody tr th {\n        vertical-align: top;\n    }\n\n    .dataframe thead th {\n        text-align: right;\n    }\n</style>\n<table border=\"1\" class=\"dataframe\">\n  <thead>\n    <tr style=\"text-align: right;\">\n      <th></th>\n      <th>Passengers</th>\n    </tr>\n    <tr>\n      <th>Month</th>\n      <th></th>\n    </tr>\n  </thead>\n  <tbody>\n    <tr>\n      <th>1949-01-01</th>\n      <td>112</td>\n    </tr>\n    <tr>\n      <th>1949-02-01</th>\n      <td>118</td>\n    </tr>\n    <tr>\n      <th>1949-03-01</th>\n      <td>132</td>\n    </tr>\n    <tr>\n      <th>1949-04-01</th>\n      <td>129</td>\n    </tr>\n    <tr>\n      <th>1949-05-01</th>\n      <td>121</td>\n    </tr>\n    <tr>\n      <th>...</th>\n      <td>...</td>\n    </tr>\n    <tr>\n      <th>1960-08-01</th>\n      <td>606</td>\n    </tr>\n    <tr>\n      <th>1960-09-01</th>\n      <td>508</td>\n    </tr>\n    <tr>\n      <th>1960-10-01</th>\n      <td>461</td>\n    </tr>\n    <tr>\n      <th>1960-11-01</th>\n      <td>390</td>\n    </tr>\n    <tr>\n      <th>1960-12-01</th>\n      <td>432</td>\n    </tr>\n  </tbody>\n</table>\n<p>144 rows × 1 columns</p>\n</div>"
     },
     "execution_count": 4,
     "metadata": {},
     "output_type": "execute_result"
    }
   ],
   "source": [
    "df = pd.read_csv('airline_passengers.csv', index_col='Month', parse_dates=True)\n",
    "df"
   ],
   "metadata": {
    "collapsed": false,
    "ExecuteTime": {
     "start_time": "2023-04-03T00:35:11.528867Z",
     "end_time": "2023-04-03T00:35:11.546641Z"
    }
   }
  },
  {
   "cell_type": "code",
   "execution_count": 5,
   "outputs": [],
   "source": [
    "df['LogPassengers'] = np.log(df['Passengers'])"
   ],
   "metadata": {
    "collapsed": false,
    "ExecuteTime": {
     "start_time": "2023-04-03T00:35:11.550943Z",
     "end_time": "2023-04-03T00:35:11.568808Z"
    }
   }
  },
  {
   "cell_type": "code",
   "execution_count": 6,
   "outputs": [],
   "source": [
    "Ntest = 12\n",
    "train = df.iloc[:-Ntest]\n",
    "test = df.iloc[-Ntest:]"
   ],
   "metadata": {
    "collapsed": false,
    "ExecuteTime": {
     "start_time": "2023-04-03T00:35:11.555610Z",
     "end_time": "2023-04-03T00:35:11.569230Z"
    }
   }
  },
  {
   "cell_type": "code",
   "execution_count": 7,
   "outputs": [
    {
     "data": {
      "text/plain": "Month\n1949-01-01         NaN\n1949-02-01    0.052186\n1949-03-01    0.112117\n1949-04-01   -0.022990\n1949-05-01   -0.064022\n                ...   \n1960-08-01   -0.026060\n1960-09-01   -0.176399\n1960-10-01   -0.097083\n1960-11-01   -0.167251\n1960-12-01    0.102279\nName: DiffLogPassengers, Length: 144, dtype: float64"
     },
     "execution_count": 7,
     "metadata": {},
     "output_type": "execute_result"
    }
   ],
   "source": [
    "df['DiffLogPassengers'] = df['LogPassengers'].diff()\n",
    "df['DiffLogPassengers']"
   ],
   "metadata": {
    "collapsed": false,
    "ExecuteTime": {
     "start_time": "2023-04-03T00:35:11.564987Z",
     "end_time": "2023-04-03T00:35:11.679936Z"
    }
   }
  },
  {
   "cell_type": "code",
   "execution_count": 8,
   "outputs": [
    {
     "name": "stdout",
     "output_type": "stream",
     "text": [
      "X.shape (133, 10, 1) Y.shape (133,)\n"
     ]
    }
   ],
   "source": [
    "series = df['DiffLogPassengers'].dropna().to_numpy()\n",
    "\n",
    "T = 10\n",
    "X = []\n",
    "Y = []\n",
    "\n",
    "for t in range(len(series) - T):\n",
    "    x = series[t:t+T]\n",
    "    X.append(x)\n",
    "    y = series[t+T]\n",
    "    Y.append(y)\n",
    "\n",
    "X = np.array(X).reshape(-1, T, 1)\n",
    "Y = np.array(Y)\n",
    "N = len(X)\n",
    "print(\"X.shape\", X.shape, \"Y.shape\", Y.shape)"
   ],
   "metadata": {
    "collapsed": false,
    "ExecuteTime": {
     "start_time": "2023-04-03T00:35:11.608376Z",
     "end_time": "2023-04-03T00:35:11.680310Z"
    }
   }
  },
  {
   "cell_type": "code",
   "execution_count": 9,
   "outputs": [],
   "source": [
    "Xtrain, Ytrain = X[:-Ntest], Y[:-Ntest]\n",
    "Xtest, Ytest = X[-Ntest:], Y[-Ntest:]"
   ],
   "metadata": {
    "collapsed": false,
    "ExecuteTime": {
     "start_time": "2023-04-03T00:35:11.608652Z",
     "end_time": "2023-04-03T00:35:11.680463Z"
    }
   }
  },
  {
   "cell_type": "code",
   "execution_count": 10,
   "outputs": [
    {
     "name": "stderr",
     "output_type": "stream",
     "text": [
      "2023-04-03 00:35:11.703377: I tensorflow/compiler/xla/stream_executor/cuda/cuda_gpu_executor.cc:981] successful NUMA node read from SysFS had negative value (-1), but there must be at least one NUMA node, so returning NUMA node zero\n",
      "2023-04-03 00:35:11.703818: W tensorflow/compiler/xla/stream_executor/platform/default/dso_loader.cc:64] Could not load dynamic library 'libcudart.so.11.0'; dlerror: libcudart.so.11.0: cannot open shared object file: No such file or directory\n",
      "2023-04-03 00:35:11.704039: W tensorflow/compiler/xla/stream_executor/platform/default/dso_loader.cc:64] Could not load dynamic library 'libcublas.so.11'; dlerror: libcublas.so.11: cannot open shared object file: No such file or directory\n",
      "2023-04-03 00:35:11.704162: W tensorflow/compiler/xla/stream_executor/platform/default/dso_loader.cc:64] Could not load dynamic library 'libcublasLt.so.11'; dlerror: libcublasLt.so.11: cannot open shared object file: No such file or directory\n",
      "2023-04-03 00:35:11.704271: W tensorflow/compiler/xla/stream_executor/platform/default/dso_loader.cc:64] Could not load dynamic library 'libcufft.so.10'; dlerror: libcufft.so.10: cannot open shared object file: No such file or directory\n",
      "2023-04-03 00:35:11.704379: W tensorflow/compiler/xla/stream_executor/platform/default/dso_loader.cc:64] Could not load dynamic library 'libcurand.so.10'; dlerror: libcurand.so.10: cannot open shared object file: No such file or directory\n",
      "2023-04-03 00:35:11.704500: W tensorflow/compiler/xla/stream_executor/platform/default/dso_loader.cc:64] Could not load dynamic library 'libcusolver.so.11'; dlerror: libcusolver.so.11: cannot open shared object file: No such file or directory\n",
      "2023-04-03 00:35:11.704608: W tensorflow/compiler/xla/stream_executor/platform/default/dso_loader.cc:64] Could not load dynamic library 'libcusparse.so.11'; dlerror: libcusparse.so.11: cannot open shared object file: No such file or directory\n",
      "2023-04-03 00:35:11.704733: W tensorflow/compiler/xla/stream_executor/platform/default/dso_loader.cc:64] Could not load dynamic library 'libcudnn.so.8'; dlerror: libcudnn.so.8: cannot open shared object file: No such file or directory\n",
      "2023-04-03 00:35:11.704753: W tensorflow/core/common_runtime/gpu/gpu_device.cc:1934] Cannot dlopen some GPU libraries. Please make sure the missing libraries mentioned above are installed properly if you would like to use GPU. Follow the guide at https://www.tensorflow.org/install/gpu for how to download and setup the required libraries for your platform.\n",
      "Skipping registering GPU devices...\n",
      "2023-04-03 00:35:11.705618: I tensorflow/core/platform/cpu_feature_guard.cc:193] This TensorFlow binary is optimized with oneAPI Deep Neural Network Library (oneDNN) to use the following CPU instructions in performance-critical operations:  AVX2 FMA\n",
      "To enable them in other operations, rebuild TensorFlow with the appropriate compiler flags.\n"
     ]
    }
   ],
   "source": [
    "# CNN\n",
    "i = Input(shape=(T, 1))\n",
    "x = Conv1D(16, 3, activation='relu')(i)\n",
    "x = MaxPooling1D(2)(x)\n",
    "x = Conv1D(32, 3, activation='relu')(x)\n",
    "x = GlobalMaxPooling1D()(x)\n",
    "x = Dense(1)(x)\n",
    "model = Model(i, x)"
   ],
   "metadata": {
    "collapsed": false,
    "ExecuteTime": {
     "start_time": "2023-04-03T00:35:11.608836Z",
     "end_time": "2023-04-03T00:35:11.827397Z"
    }
   }
  },
  {
   "cell_type": "code",
   "execution_count": 11,
   "outputs": [
    {
     "name": "stdout",
     "output_type": "stream",
     "text": [
      "Model: \"model\"\n",
      "_________________________________________________________________\n",
      " Layer (type)                Output Shape              Param #   \n",
      "=================================================================\n",
      " input_1 (InputLayer)        [(None, 10, 1)]           0         \n",
      "                                                                 \n",
      " conv1d (Conv1D)             (None, 8, 16)             64        \n",
      "                                                                 \n",
      " max_pooling1d (MaxPooling1D  (None, 4, 16)            0         \n",
      " )                                                               \n",
      "                                                                 \n",
      " conv1d_1 (Conv1D)           (None, 2, 32)             1568      \n",
      "                                                                 \n",
      " global_max_pooling1d (Globa  (None, 32)               0         \n",
      " lMaxPooling1D)                                                  \n",
      "                                                                 \n",
      " dense (Dense)               (None, 1)                 33        \n",
      "                                                                 \n",
      "=================================================================\n",
      "Total params: 1,665\n",
      "Trainable params: 1,665\n",
      "Non-trainable params: 0\n",
      "_________________________________________________________________\n"
     ]
    }
   ],
   "source": [
    "model.summary()"
   ],
   "metadata": {
    "collapsed": false,
    "ExecuteTime": {
     "start_time": "2023-04-03T00:35:11.828169Z",
     "end_time": "2023-04-03T00:35:11.893057Z"
    }
   }
  },
  {
   "cell_type": "code",
   "execution_count": 12,
   "outputs": [],
   "source": [
    "model.compile(loss='mse', optimizer='adam')"
   ],
   "metadata": {
    "collapsed": false,
    "ExecuteTime": {
     "start_time": "2023-04-03T00:35:11.877712Z",
     "end_time": "2023-04-03T00:35:11.893989Z"
    }
   }
  },
  {
   "cell_type": "code",
   "execution_count": 13,
   "outputs": [
    {
     "name": "stdout",
     "output_type": "stream",
     "text": [
      "Epoch 1/100\n",
      "4/4 [==============================] - 1s 59ms/step - loss: 0.0121 - val_loss: 0.0105\n",
      "Epoch 2/100\n",
      "4/4 [==============================] - 0s 11ms/step - loss: 0.0107 - val_loss: 0.0103\n",
      "Epoch 3/100\n",
      "4/4 [==============================] - 0s 10ms/step - loss: 0.0101 - val_loss: 0.0102\n",
      "Epoch 4/100\n",
      "4/4 [==============================] - 0s 9ms/step - loss: 0.0095 - val_loss: 0.0097\n",
      "Epoch 5/100\n",
      "4/4 [==============================] - 0s 12ms/step - loss: 0.0089 - val_loss: 0.0090\n",
      "Epoch 6/100\n",
      "4/4 [==============================] - 0s 11ms/step - loss: 0.0085 - val_loss: 0.0086\n",
      "Epoch 7/100\n",
      "4/4 [==============================] - 0s 10ms/step - loss: 0.0079 - val_loss: 0.0083\n",
      "Epoch 8/100\n",
      "4/4 [==============================] - 0s 9ms/step - loss: 0.0073 - val_loss: 0.0081\n",
      "Epoch 9/100\n",
      "4/4 [==============================] - 0s 9ms/step - loss: 0.0068 - val_loss: 0.0079\n",
      "Epoch 10/100\n",
      "4/4 [==============================] - 0s 10ms/step - loss: 0.0065 - val_loss: 0.0076\n",
      "Epoch 11/100\n",
      "4/4 [==============================] - 0s 9ms/step - loss: 0.0060 - val_loss: 0.0072\n",
      "Epoch 12/100\n",
      "4/4 [==============================] - 0s 10ms/step - loss: 0.0056 - val_loss: 0.0069\n",
      "Epoch 13/100\n",
      "4/4 [==============================] - 0s 9ms/step - loss: 0.0052 - val_loss: 0.0066\n",
      "Epoch 14/100\n",
      "4/4 [==============================] - 0s 9ms/step - loss: 0.0047 - val_loss: 0.0065\n",
      "Epoch 15/100\n",
      "4/4 [==============================] - 0s 10ms/step - loss: 0.0044 - val_loss: 0.0063\n",
      "Epoch 16/100\n",
      "4/4 [==============================] - 0s 10ms/step - loss: 0.0040 - val_loss: 0.0061\n",
      "Epoch 17/100\n",
      "4/4 [==============================] - 0s 10ms/step - loss: 0.0037 - val_loss: 0.0058\n",
      "Epoch 18/100\n",
      "4/4 [==============================] - 0s 10ms/step - loss: 0.0034 - val_loss: 0.0057\n",
      "Epoch 19/100\n",
      "4/4 [==============================] - 0s 10ms/step - loss: 0.0031 - val_loss: 0.0058\n",
      "Epoch 20/100\n",
      "4/4 [==============================] - 0s 10ms/step - loss: 0.0029 - val_loss: 0.0055\n",
      "Epoch 21/100\n",
      "4/4 [==============================] - 0s 10ms/step - loss: 0.0027 - val_loss: 0.0055\n",
      "Epoch 22/100\n",
      "4/4 [==============================] - 0s 10ms/step - loss: 0.0025 - val_loss: 0.0052\n",
      "Epoch 23/100\n",
      "4/4 [==============================] - 0s 10ms/step - loss: 0.0024 - val_loss: 0.0054\n",
      "Epoch 24/100\n",
      "4/4 [==============================] - 0s 10ms/step - loss: 0.0022 - val_loss: 0.0054\n",
      "Epoch 25/100\n",
      "4/4 [==============================] - 0s 9ms/step - loss: 0.0022 - val_loss: 0.0053\n",
      "Epoch 26/100\n",
      "4/4 [==============================] - 0s 10ms/step - loss: 0.0021 - val_loss: 0.0051\n",
      "Epoch 27/100\n",
      "4/4 [==============================] - 0s 10ms/step - loss: 0.0020 - val_loss: 0.0053\n",
      "Epoch 28/100\n",
      "4/4 [==============================] - 0s 13ms/step - loss: 0.0020 - val_loss: 0.0053\n",
      "Epoch 29/100\n",
      "4/4 [==============================] - 0s 8ms/step - loss: 0.0019 - val_loss: 0.0051\n",
      "Epoch 30/100\n",
      "4/4 [==============================] - 0s 10ms/step - loss: 0.0019 - val_loss: 0.0051\n",
      "Epoch 31/100\n",
      "4/4 [==============================] - 0s 10ms/step - loss: 0.0018 - val_loss: 0.0054\n",
      "Epoch 32/100\n",
      "4/4 [==============================] - 0s 10ms/step - loss: 0.0018 - val_loss: 0.0052\n",
      "Epoch 33/100\n",
      "4/4 [==============================] - 0s 12ms/step - loss: 0.0017 - val_loss: 0.0050\n",
      "Epoch 34/100\n",
      "4/4 [==============================] - 0s 10ms/step - loss: 0.0017 - val_loss: 0.0051\n",
      "Epoch 35/100\n",
      "4/4 [==============================] - 0s 9ms/step - loss: 0.0016 - val_loss: 0.0052\n",
      "Epoch 36/100\n",
      "4/4 [==============================] - 0s 10ms/step - loss: 0.0016 - val_loss: 0.0052\n",
      "Epoch 37/100\n",
      "4/4 [==============================] - 0s 9ms/step - loss: 0.0016 - val_loss: 0.0049\n",
      "Epoch 38/100\n",
      "4/4 [==============================] - 0s 9ms/step - loss: 0.0016 - val_loss: 0.0051\n",
      "Epoch 39/100\n",
      "4/4 [==============================] - 0s 10ms/step - loss: 0.0015 - val_loss: 0.0053\n",
      "Epoch 40/100\n",
      "4/4 [==============================] - 0s 9ms/step - loss: 0.0015 - val_loss: 0.0049\n",
      "Epoch 41/100\n",
      "4/4 [==============================] - 0s 10ms/step - loss: 0.0015 - val_loss: 0.0051\n",
      "Epoch 42/100\n",
      "4/4 [==============================] - 0s 9ms/step - loss: 0.0015 - val_loss: 0.0049\n",
      "Epoch 43/100\n",
      "4/4 [==============================] - 0s 14ms/step - loss: 0.0014 - val_loss: 0.0050\n",
      "Epoch 44/100\n",
      "4/4 [==============================] - 0s 10ms/step - loss: 0.0014 - val_loss: 0.0050\n",
      "Epoch 45/100\n",
      "4/4 [==============================] - 0s 9ms/step - loss: 0.0014 - val_loss: 0.0050\n",
      "Epoch 46/100\n",
      "4/4 [==============================] - 0s 10ms/step - loss: 0.0014 - val_loss: 0.0051\n",
      "Epoch 47/100\n",
      "4/4 [==============================] - 0s 10ms/step - loss: 0.0014 - val_loss: 0.0050\n",
      "Epoch 48/100\n",
      "4/4 [==============================] - 0s 10ms/step - loss: 0.0014 - val_loss: 0.0048\n",
      "Epoch 49/100\n",
      "4/4 [==============================] - 0s 9ms/step - loss: 0.0013 - val_loss: 0.0052\n",
      "Epoch 50/100\n",
      "4/4 [==============================] - 0s 10ms/step - loss: 0.0013 - val_loss: 0.0049\n",
      "Epoch 51/100\n",
      "4/4 [==============================] - 0s 10ms/step - loss: 0.0013 - val_loss: 0.0049\n",
      "Epoch 52/100\n",
      "4/4 [==============================] - 0s 10ms/step - loss: 0.0012 - val_loss: 0.0051\n",
      "Epoch 53/100\n",
      "4/4 [==============================] - 0s 10ms/step - loss: 0.0013 - val_loss: 0.0051\n",
      "Epoch 54/100\n",
      "4/4 [==============================] - 0s 10ms/step - loss: 0.0012 - val_loss: 0.0049\n",
      "Epoch 55/100\n",
      "4/4 [==============================] - 0s 10ms/step - loss: 0.0012 - val_loss: 0.0050\n",
      "Epoch 56/100\n",
      "4/4 [==============================] - 0s 12ms/step - loss: 0.0012 - val_loss: 0.0052\n",
      "Epoch 57/100\n",
      "4/4 [==============================] - 0s 10ms/step - loss: 0.0012 - val_loss: 0.0049\n",
      "Epoch 58/100\n",
      "4/4 [==============================] - 0s 10ms/step - loss: 0.0012 - val_loss: 0.0052\n",
      "Epoch 59/100\n",
      "4/4 [==============================] - 0s 10ms/step - loss: 0.0012 - val_loss: 0.0049\n",
      "Epoch 60/100\n",
      "4/4 [==============================] - 0s 12ms/step - loss: 0.0012 - val_loss: 0.0050\n",
      "Epoch 61/100\n",
      "4/4 [==============================] - 0s 10ms/step - loss: 0.0012 - val_loss: 0.0050\n",
      "Epoch 62/100\n",
      "4/4 [==============================] - 0s 11ms/step - loss: 0.0011 - val_loss: 0.0050\n",
      "Epoch 63/100\n",
      "4/4 [==============================] - 0s 9ms/step - loss: 0.0011 - val_loss: 0.0050\n",
      "Epoch 64/100\n",
      "4/4 [==============================] - 0s 10ms/step - loss: 0.0011 - val_loss: 0.0051\n",
      "Epoch 65/100\n",
      "4/4 [==============================] - 0s 10ms/step - loss: 0.0011 - val_loss: 0.0049\n",
      "Epoch 66/100\n",
      "4/4 [==============================] - 0s 9ms/step - loss: 0.0011 - val_loss: 0.0050\n",
      "Epoch 67/100\n",
      "4/4 [==============================] - 0s 9ms/step - loss: 0.0011 - val_loss: 0.0048\n",
      "Epoch 68/100\n",
      "4/4 [==============================] - 0s 11ms/step - loss: 0.0011 - val_loss: 0.0049\n",
      "Epoch 69/100\n",
      "4/4 [==============================] - 0s 9ms/step - loss: 0.0011 - val_loss: 0.0050\n",
      "Epoch 70/100\n",
      "4/4 [==============================] - 0s 10ms/step - loss: 0.0011 - val_loss: 0.0049\n",
      "Epoch 71/100\n",
      "4/4 [==============================] - 0s 11ms/step - loss: 0.0010 - val_loss: 0.0051\n",
      "Epoch 72/100\n",
      "4/4 [==============================] - 0s 10ms/step - loss: 0.0010 - val_loss: 0.0049\n",
      "Epoch 73/100\n",
      "4/4 [==============================] - 0s 11ms/step - loss: 0.0011 - val_loss: 0.0049\n",
      "Epoch 74/100\n",
      "4/4 [==============================] - 0s 10ms/step - loss: 0.0010 - val_loss: 0.0051\n",
      "Epoch 75/100\n",
      "4/4 [==============================] - 0s 10ms/step - loss: 0.0010 - val_loss: 0.0048\n",
      "Epoch 76/100\n",
      "4/4 [==============================] - 0s 10ms/step - loss: 0.0011 - val_loss: 0.0047\n",
      "Epoch 77/100\n",
      "4/4 [==============================] - 0s 10ms/step - loss: 0.0011 - val_loss: 0.0054\n",
      "Epoch 78/100\n",
      "4/4 [==============================] - 0s 10ms/step - loss: 0.0010 - val_loss: 0.0047\n",
      "Epoch 79/100\n",
      "4/4 [==============================] - 0s 9ms/step - loss: 0.0010 - val_loss: 0.0049\n",
      "Epoch 80/100\n",
      "4/4 [==============================] - 0s 9ms/step - loss: 9.7984e-04 - val_loss: 0.0049\n",
      "Epoch 81/100\n",
      "4/4 [==============================] - 0s 12ms/step - loss: 9.5589e-04 - val_loss: 0.0048\n",
      "Epoch 82/100\n",
      "4/4 [==============================] - 0s 9ms/step - loss: 9.4224e-04 - val_loss: 0.0049\n",
      "Epoch 83/100\n",
      "4/4 [==============================] - 0s 8ms/step - loss: 9.4493e-04 - val_loss: 0.0049\n",
      "Epoch 84/100\n",
      "4/4 [==============================] - 0s 10ms/step - loss: 9.7751e-04 - val_loss: 0.0048\n",
      "Epoch 85/100\n",
      "4/4 [==============================] - 0s 10ms/step - loss: 9.3142e-04 - val_loss: 0.0051\n",
      "Epoch 86/100\n",
      "4/4 [==============================] - 0s 11ms/step - loss: 9.2550e-04 - val_loss: 0.0048\n",
      "Epoch 87/100\n",
      "4/4 [==============================] - 0s 10ms/step - loss: 9.2223e-04 - val_loss: 0.0049\n",
      "Epoch 88/100\n",
      "4/4 [==============================] - 0s 10ms/step - loss: 9.2006e-04 - val_loss: 0.0051\n",
      "Epoch 89/100\n",
      "4/4 [==============================] - 0s 10ms/step - loss: 9.2360e-04 - val_loss: 0.0047\n",
      "Epoch 90/100\n",
      "4/4 [==============================] - 0s 9ms/step - loss: 8.8622e-04 - val_loss: 0.0051\n",
      "Epoch 91/100\n",
      "4/4 [==============================] - 0s 9ms/step - loss: 9.1217e-04 - val_loss: 0.0048\n",
      "Epoch 92/100\n",
      "4/4 [==============================] - 0s 10ms/step - loss: 8.9352e-04 - val_loss: 0.0048\n",
      "Epoch 93/100\n",
      "4/4 [==============================] - 0s 9ms/step - loss: 8.8613e-04 - val_loss: 0.0049\n",
      "Epoch 94/100\n",
      "4/4 [==============================] - 0s 10ms/step - loss: 8.6561e-04 - val_loss: 0.0047\n",
      "Epoch 95/100\n",
      "4/4 [==============================] - 0s 10ms/step - loss: 8.6199e-04 - val_loss: 0.0050\n",
      "Epoch 96/100\n",
      "4/4 [==============================] - 0s 10ms/step - loss: 8.3749e-04 - val_loss: 0.0047\n",
      "Epoch 97/100\n",
      "4/4 [==============================] - 0s 10ms/step - loss: 8.4663e-04 - val_loss: 0.0048\n",
      "Epoch 98/100\n",
      "4/4 [==============================] - 0s 10ms/step - loss: 8.3748e-04 - val_loss: 0.0048\n",
      "Epoch 99/100\n",
      "4/4 [==============================] - 0s 9ms/step - loss: 8.1659e-04 - val_loss: 0.0050\n",
      "Epoch 100/100\n",
      "4/4 [==============================] - 0s 11ms/step - loss: 8.1963e-04 - val_loss: 0.0048\n"
     ]
    }
   ],
   "source": [
    "r = model.fit(\n",
    "    Xtrain,\n",
    "    Ytrain,\n",
    "    epochs=100,\n",
    "    validation_data=(Xtest, Ytest)\n",
    ")"
   ],
   "metadata": {
    "collapsed": false,
    "ExecuteTime": {
     "start_time": "2023-04-03T00:35:11.878242Z",
     "end_time": "2023-04-03T00:35:16.378049Z"
    }
   }
  },
  {
   "cell_type": "code",
   "execution_count": null,
   "outputs": [],
   "source": [],
   "metadata": {
    "collapsed": false
   }
  },
  {
   "cell_type": "code",
   "execution_count": null,
   "outputs": [],
   "source": [],
   "metadata": {
    "collapsed": false
   }
  },
  {
   "cell_type": "code",
   "execution_count": null,
   "outputs": [],
   "source": [],
   "metadata": {
    "collapsed": false
   }
  },
  {
   "cell_type": "code",
   "execution_count": null,
   "outputs": [],
   "source": [],
   "metadata": {
    "collapsed": false
   }
  },
  {
   "cell_type": "code",
   "execution_count": null,
   "outputs": [],
   "source": [],
   "metadata": {
    "collapsed": false
   }
  }
 ],
 "metadata": {
  "kernelspec": {
   "display_name": "Python 3",
   "language": "python",
   "name": "python3"
  },
  "language_info": {
   "codemirror_mode": {
    "name": "ipython",
    "version": 2
   },
   "file_extension": ".py",
   "mimetype": "text/x-python",
   "name": "python",
   "nbconvert_exporter": "python",
   "pygments_lexer": "ipython2",
   "version": "2.7.6"
  }
 },
 "nbformat": 4,
 "nbformat_minor": 0
}
