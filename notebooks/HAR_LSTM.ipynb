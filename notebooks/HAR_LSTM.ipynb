{
 "cells": [
  {
   "cell_type": "code",
   "execution_count": 1,
   "metadata": {},
   "outputs": [
    {
     "name": "stderr",
     "output_type": "stream",
     "text": [
      "2023-07-19 16:05:16.103224: I tensorflow/core/platform/cpu_feature_guard.cc:182] This TensorFlow binary is optimized to use available CPU instructions in performance-critical operations.\n",
      "To enable the following instructions: AVX2 FMA, in other operations, rebuild TensorFlow with the appropriate compiler flags.\n",
      "2023-07-19 16:05:17.824653: W tensorflow/compiler/tf2tensorrt/utils/py_utils.cc:38] TF-TRT Warning: Could not find TensorRT\n"
     ]
    }
   ],
   "source": [
    "from numpy import mean\n",
    "from numpy import std\n",
    "from numpy import dstack\n",
    "from pandas import read_csv\n",
    "from keras.models import Sequential\n",
    "from keras.layers import Dense\n",
    "from keras.layers import Flatten\n",
    "from keras.layers import Dropout\n",
    "from keras.layers import LSTM\n",
    "from keras.layers import TimeDistributed\n",
    "from keras.layers import ConvLSTM2D, LSTM\n",
    "from keras.layers import Permute, Reshape\n",
    "from keras.layers.convolutional import MaxPooling2D\n",
    "from keras.layers.convolutional import Conv2D\n",
    "from keras.utils import to_categorical\n",
    "from matplotlib import pyplot as plt\n",
    "import seaborn as sns\n",
    "import numpy as np\n",
    "from sklearn import metrics"
   ]
  },
  {
   "cell_type": "code",
   "execution_count": 2,
   "metadata": {},
   "outputs": [],
   "source": [
    "# load a single file as a numpy array\n",
    "def load_file(filepath):\n",
    "    dataframe = read_csv(filepath, header=None, delim_whitespace=True)\n",
    "    return dataframe.values"
   ]
  },
  {
   "cell_type": "code",
   "execution_count": 3,
   "metadata": {},
   "outputs": [],
   "source": [
    "# load a list of files and return as a 3d numpy array\n",
    "def load_group(filenames, prefix=''):\n",
    "    loaded = list()\n",
    "    for name in filenames:\n",
    "        data = load_file(prefix + name)\n",
    "        loaded.append(data)\n",
    "    # stack group so that features are the 3rd dimension\n",
    "    loaded = dstack(loaded)\n",
    "    return loaded"
   ]
  },
  {
   "cell_type": "code",
   "execution_count": 4,
   "metadata": {},
   "outputs": [],
   "source": [
    "# load a dataset group, such as train or test\n",
    "def load_dataset_group(group, prefix=''):\n",
    "    filepath = prefix + group + '/Inertial Signals/'\n",
    "    print('File Path : ',filepath)\n",
    "    # load all 9 files as a single array\n",
    "    filenames = list()\n",
    "    # total acceleration\n",
    "    filenames += ['total_acc_x_'+group+'.txt', 'total_acc_y_'+group+'.txt', 'total_acc_z_'+group+'.txt']\n",
    "    # body acceleration\n",
    "    filenames += ['body_acc_x_'+group+'.txt', 'body_acc_y_'+group+'.txt', 'body_acc_z_'+group+'.txt']\n",
    "    # body gyroscope\n",
    "    filenames += ['body_gyro_x_'+group+'.txt', 'body_gyro_y_'+group+'.txt', 'body_gyro_z_'+group+'.txt']\n",
    "    # load input data\n",
    "    X = load_group(filenames, filepath)\n",
    "    # load class output\n",
    "    y = load_file(prefix + group + '/y_'+group+'.txt')\n",
    "    return X, y"
   ]
  },
  {
   "cell_type": "code",
   "execution_count": 5,
   "metadata": {},
   "outputs": [
    {
     "name": "stdout",
     "output_type": "stream",
     "text": [
      "File Path :  dataset_uci/train/Inertial Signals/\n",
      "File Path :  dataset_uci/test/Inertial Signals/\n",
      "X_train.shape :  (7352, 128, 9)\n",
      "Y_train.shape :  (7352, 6)\n",
      "X_test.shape :  (2947, 128, 9)\n",
      "Y_test.shape :  (2947, 6)\n"
     ]
    }
   ],
   "source": [
    "# load all train\n",
    "X_train, Y_train = load_dataset_group('train', 'dataset_uci/')\n",
    "# load all test\n",
    "X_test, Y_test = load_dataset_group('test', 'dataset_uci/')\n",
    "\n",
    "# zero-offset class values\n",
    "Y_train = Y_train - 1\n",
    "Y_test = Y_test - 1\n",
    "# one hot encode y\n",
    "Y_train = to_categorical(Y_train)\n",
    "Y_test = to_categorical(Y_test)\n",
    "\n",
    "print('X_train.shape : ', X_train.shape)\n",
    "print('Y_train.shape : ', Y_train.shape)\n",
    "print('X_test.shape : ', X_test.shape)\n",
    "print('Y_test.shape : ', Y_test.shape)"
   ]
  },
  {
   "cell_type": "code",
   "execution_count": 6,
   "metadata": {},
   "outputs": [],
   "source": [
    "n_timesteps = X_train.shape[1]\n",
    "n_features = X_train.shape[2]\n",
    "n_outputs = Y_train.shape[1]\n",
    "\n",
    "# reshape into subsequences (samples, time steps, rows, cols, channels)\n",
    "n_steps, n_length = 4, 32\n",
    "\n",
    "X_train = X_train.reshape((X_train.shape[0], n_steps, 1, n_length, n_features))\n",
    "X_test = X_test.reshape((X_test.shape[0], n_steps, 1, n_length, n_features))"
   ]
  },
  {
   "cell_type": "code",
   "execution_count": 7,
   "metadata": {},
   "outputs": [
    {
     "name": "stderr",
     "output_type": "stream",
     "text": [
      "2023-07-19 16:05:25.715009: I tensorflow/compiler/xla/stream_executor/cuda/cuda_gpu_executor.cc:996] successful NUMA node read from SysFS had negative value (-1), but there must be at least one NUMA node, so returning NUMA node zero. See more at https://github.com/torvalds/linux/blob/v6.0/Documentation/ABI/testing/sysfs-bus-pci#L344-L355\n",
      "2023-07-19 16:05:26.016296: I tensorflow/compiler/xla/stream_executor/cuda/cuda_gpu_executor.cc:996] successful NUMA node read from SysFS had negative value (-1), but there must be at least one NUMA node, so returning NUMA node zero. See more at https://github.com/torvalds/linux/blob/v6.0/Documentation/ABI/testing/sysfs-bus-pci#L344-L355\n",
      "2023-07-19 16:05:26.016620: I tensorflow/compiler/xla/stream_executor/cuda/cuda_gpu_executor.cc:996] successful NUMA node read from SysFS had negative value (-1), but there must be at least one NUMA node, so returning NUMA node zero. See more at https://github.com/torvalds/linux/blob/v6.0/Documentation/ABI/testing/sysfs-bus-pci#L344-L355\n",
      "2023-07-19 16:05:26.018145: I tensorflow/compiler/xla/stream_executor/cuda/cuda_gpu_executor.cc:996] successful NUMA node read from SysFS had negative value (-1), but there must be at least one NUMA node, so returning NUMA node zero. See more at https://github.com/torvalds/linux/blob/v6.0/Documentation/ABI/testing/sysfs-bus-pci#L344-L355\n",
      "2023-07-19 16:05:26.018615: I tensorflow/compiler/xla/stream_executor/cuda/cuda_gpu_executor.cc:996] successful NUMA node read from SysFS had negative value (-1), but there must be at least one NUMA node, so returning NUMA node zero. See more at https://github.com/torvalds/linux/blob/v6.0/Documentation/ABI/testing/sysfs-bus-pci#L344-L355\n",
      "2023-07-19 16:05:26.018892: I tensorflow/compiler/xla/stream_executor/cuda/cuda_gpu_executor.cc:996] successful NUMA node read from SysFS had negative value (-1), but there must be at least one NUMA node, so returning NUMA node zero. See more at https://github.com/torvalds/linux/blob/v6.0/Documentation/ABI/testing/sysfs-bus-pci#L344-L355\n",
      "2023-07-19 16:05:28.112630: I tensorflow/compiler/xla/stream_executor/cuda/cuda_gpu_executor.cc:996] successful NUMA node read from SysFS had negative value (-1), but there must be at least one NUMA node, so returning NUMA node zero. See more at https://github.com/torvalds/linux/blob/v6.0/Documentation/ABI/testing/sysfs-bus-pci#L344-L355\n",
      "2023-07-19 16:05:28.112881: I tensorflow/compiler/xla/stream_executor/cuda/cuda_gpu_executor.cc:996] successful NUMA node read from SysFS had negative value (-1), but there must be at least one NUMA node, so returning NUMA node zero. See more at https://github.com/torvalds/linux/blob/v6.0/Documentation/ABI/testing/sysfs-bus-pci#L344-L355\n",
      "2023-07-19 16:05:28.113078: I tensorflow/compiler/xla/stream_executor/cuda/cuda_gpu_executor.cc:996] successful NUMA node read from SysFS had negative value (-1), but there must be at least one NUMA node, so returning NUMA node zero. See more at https://github.com/torvalds/linux/blob/v6.0/Documentation/ABI/testing/sysfs-bus-pci#L344-L355\n",
      "2023-07-19 16:05:28.113191: I tensorflow/core/common_runtime/gpu/gpu_device.cc:1635] Created device /job:localhost/replica:0/task:0/device:GPU:0 with 5350 MB memory:  -> device: 0, name: NVIDIA GeForce GTX 1060, pci bus id: 0000:01:00.0, compute capability: 6.1\n"
     ]
    },
    {
     "name": "stdout",
     "output_type": "stream",
     "text": [
      "Epoch 1/30\n"
     ]
    },
    {
     "name": "stderr",
     "output_type": "stream",
     "text": [
      "2023-07-19 16:05:32.929695: I tensorflow/compiler/xla/stream_executor/cuda/cuda_dnn.cc:424] Loaded cuDNN version 8600\n",
      "2023-07-19 16:05:34.583162: I tensorflow/tsl/platform/default/subprocess.cc:304] Start cannot spawn child process: No such file or directory\n",
      "2023-07-19 16:05:34.770717: I tensorflow/compiler/xla/service/service.cc:169] XLA service 0x7f6e1c00e470 initialized for platform CUDA (this does not guarantee that XLA will be used). Devices:\n",
      "2023-07-19 16:05:34.770765: I tensorflow/compiler/xla/service/service.cc:177]   StreamExecutor device (0): NVIDIA GeForce GTX 1060, Compute Capability 6.1\n",
      "2023-07-19 16:05:34.826044: I tensorflow/compiler/mlir/tensorflow/utils/dump_mlir_util.cc:269] disabling MLIR crash reproducer, set env var `MLIR_CRASH_REPRODUCER_DIRECTORY` to enable.\n",
      "2023-07-19 16:05:35.178864: I tensorflow/tsl/platform/default/subprocess.cc:304] Start cannot spawn child process: No such file or directory\n",
      "2023-07-19 16:05:35.316135: I ./tensorflow/compiler/jit/device_compiler.h:180] Compiled cluster using XLA!  This line is logged at most once for the lifetime of the process.\n"
     ]
    },
    {
     "name": "stdout",
     "output_type": "stream",
     "text": [
      "368/368 [==============================] - 18s 26ms/step - loss: 0.3744 - accuracy: 0.8494 - val_loss: 0.5492 - val_accuracy: 0.8741\n",
      "Epoch 2/30\n",
      "368/368 [==============================] - 8s 23ms/step - loss: 0.1531 - accuracy: 0.9396 - val_loss: 0.5538 - val_accuracy: 0.8853\n",
      "Epoch 3/30\n",
      "368/368 [==============================] - 9s 25ms/step - loss: 0.1256 - accuracy: 0.9486 - val_loss: 0.4864 - val_accuracy: 0.8873\n",
      "Epoch 4/30\n",
      "368/368 [==============================] - 9s 25ms/step - loss: 0.1161 - accuracy: 0.9504 - val_loss: 0.5349 - val_accuracy: 0.8778\n",
      "Epoch 5/30\n",
      "368/368 [==============================] - 8s 23ms/step - loss: 0.1072 - accuracy: 0.9559 - val_loss: 0.5279 - val_accuracy: 0.8965\n",
      "Epoch 6/30\n",
      "368/368 [==============================] - 8s 23ms/step - loss: 0.1019 - accuracy: 0.9559 - val_loss: 0.6389 - val_accuracy: 0.9084\n",
      "Epoch 7/30\n",
      "368/368 [==============================] - 8s 23ms/step - loss: 0.1063 - accuracy: 0.9561 - val_loss: 0.3339 - val_accuracy: 0.9074\n",
      "Epoch 8/30\n",
      "368/368 [==============================] - 8s 23ms/step - loss: 0.1024 - accuracy: 0.9554 - val_loss: 0.4629 - val_accuracy: 0.9165\n",
      "Epoch 9/30\n",
      "368/368 [==============================] - 9s 23ms/step - loss: 0.0898 - accuracy: 0.9600 - val_loss: 0.4506 - val_accuracy: 0.9101\n",
      "Epoch 10/30\n",
      "368/368 [==============================] - 8s 23ms/step - loss: 0.0855 - accuracy: 0.9614 - val_loss: 0.4986 - val_accuracy: 0.9084\n",
      "Epoch 11/30\n",
      "368/368 [==============================] - 8s 23ms/step - loss: 0.0903 - accuracy: 0.9592 - val_loss: 0.5414 - val_accuracy: 0.9121\n",
      "Epoch 12/30\n",
      "368/368 [==============================] - 8s 23ms/step - loss: 0.0784 - accuracy: 0.9649 - val_loss: 0.5557 - val_accuracy: 0.9213\n",
      "Epoch 13/30\n",
      "368/368 [==============================] - 8s 23ms/step - loss: 0.0728 - accuracy: 0.9655 - val_loss: 0.6444 - val_accuracy: 0.9182\n",
      "Epoch 14/30\n",
      "368/368 [==============================] - 9s 23ms/step - loss: 0.0676 - accuracy: 0.9687 - val_loss: 0.6281 - val_accuracy: 0.9213\n",
      "Epoch 15/30\n",
      "368/368 [==============================] - 8s 23ms/step - loss: 0.0616 - accuracy: 0.9709 - val_loss: 0.6400 - val_accuracy: 0.9186\n",
      "Epoch 16/30\n",
      "368/368 [==============================] - 8s 23ms/step - loss: 0.0658 - accuracy: 0.9708 - val_loss: 0.7530 - val_accuracy: 0.9108\n",
      "Epoch 17/30\n",
      "368/368 [==============================] - 9s 23ms/step - loss: 0.1084 - accuracy: 0.9631 - val_loss: 0.3944 - val_accuracy: 0.9165\n",
      "Epoch 18/30\n",
      "368/368 [==============================] - 8s 23ms/step - loss: 0.0579 - accuracy: 0.9737 - val_loss: 0.4259 - val_accuracy: 0.9179\n",
      "Epoch 19/30\n",
      "368/368 [==============================] - 9s 23ms/step - loss: 0.0561 - accuracy: 0.9744 - val_loss: 0.4419 - val_accuracy: 0.9169\n",
      "Epoch 20/30\n",
      "368/368 [==============================] - 9s 23ms/step - loss: 0.0500 - accuracy: 0.9758 - val_loss: 0.4439 - val_accuracy: 0.9223\n",
      "Epoch 21/30\n",
      "368/368 [==============================] - 9s 23ms/step - loss: 0.0512 - accuracy: 0.9762 - val_loss: 0.4218 - val_accuracy: 0.9223\n",
      "Epoch 22/30\n",
      "368/368 [==============================] - 9s 23ms/step - loss: 0.0480 - accuracy: 0.9774 - val_loss: 0.4481 - val_accuracy: 0.9162\n",
      "Epoch 23/30\n",
      "368/368 [==============================] - 8s 23ms/step - loss: 0.0428 - accuracy: 0.9803 - val_loss: 0.5134 - val_accuracy: 0.9250\n",
      "Epoch 24/30\n",
      "368/368 [==============================] - 9s 25ms/step - loss: 0.0421 - accuracy: 0.9811 - val_loss: 0.5729 - val_accuracy: 0.9270\n",
      "Epoch 25/30\n",
      "368/368 [==============================] - 9s 23ms/step - loss: 0.0610 - accuracy: 0.9769 - val_loss: 0.5364 - val_accuracy: 0.9172\n",
      "Epoch 26/30\n",
      "368/368 [==============================] - 9s 24ms/step - loss: 0.0453 - accuracy: 0.9803 - val_loss: 0.3662 - val_accuracy: 0.9206\n",
      "Epoch 27/30\n",
      "368/368 [==============================] - 9s 23ms/step - loss: 0.0426 - accuracy: 0.9812 - val_loss: 0.4228 - val_accuracy: 0.9179\n",
      "Epoch 28/30\n",
      "368/368 [==============================] - 9s 24ms/step - loss: 0.0403 - accuracy: 0.9831 - val_loss: 0.4104 - val_accuracy: 0.9250\n",
      "Epoch 29/30\n",
      "368/368 [==============================] - 9s 23ms/step - loss: 0.0413 - accuracy: 0.9825 - val_loss: 0.4786 - val_accuracy: 0.9131\n",
      "Epoch 30/30\n",
      "368/368 [==============================] - 9s 24ms/step - loss: 0.0409 - accuracy: 0.9812 - val_loss: 0.9696 - val_accuracy: 0.9135\n",
      "148/148 [==============================] - 1s 4ms/step - loss: 0.9696 - accuracy: 0.9135\n",
      "[INFO] loss=0.9696, accuracy: 91.3471%\n"
     ]
    }
   ],
   "source": [
    "verbose = 1\n",
    "epochs = 30\n",
    "batch_size = 20\n",
    "\n",
    "# define model\n",
    "model = Sequential()\n",
    "model.add(ConvLSTM2D(filters=64, kernel_size=(1,3), activation='relu', input_shape=(n_steps, 1, n_length, n_features)))\n",
    "model.add(Dropout(0.1))\n",
    "model.add(Flatten())\n",
    "model.add(Dense(128, activation='relu'))\n",
    "model.add(Dense(n_outputs, activation='softmax'))\n",
    "\n",
    "model.compile(loss='categorical_crossentropy', optimizer='adam', metrics=['accuracy'])\n",
    "\n",
    "# fit network\n",
    "hist = model.fit(X_train, Y_train, epochs=epochs, validation_data=(X_test, Y_test), batch_size=batch_size, verbose=verbose)\n",
    "\n",
    "# evaluate model\n",
    "(loss, accuracy) = model.evaluate(X_test, Y_test, batch_size=batch_size, verbose=verbose)\n",
    "print(\"[INFO] loss={:.4f}, accuracy: {:.4f}%\".format(loss, accuracy * 100))\n"
   ]
  },
  {
   "cell_type": "code",
   "execution_count": 8,
   "metadata": {},
   "outputs": [
    {
     "name": "stdout",
     "output_type": "stream",
     "text": [
      "230/230 [==============================] - 1s 4ms/step\n",
      "93/93 [==============================] - 0s 4ms/step\n"
     ]
    },
    {
     "data": {
      "image/png": "[encoded data removed]",
      "text/plain": [
       "<Figure size 600x400 with 2 Axes>"
      ]
     },
     "metadata": {},
     "output_type": "display_data"
    }
   ],
   "source": [
    "# Print confusion matrix for training data\n",
    "y_pred_train = model.predict(X_train)\n",
    "# Take the class with the highest probability from the train predictions\n",
    "max_y_pred_train = np.argmax(y_pred_train, axis=1)\n",
    "#print(classification_report(trainy, max_y_pred_train))\n",
    "\n",
    "# confusion matrix\n",
    "LABELS = ['WALKING',\n",
    "          'WALKING_UPSTAIRS',\n",
    "          'WALKING_DOWNSTAIRS',\n",
    "          'SITTING',\n",
    "          'STANDING',\n",
    "          'LAYING']\n",
    "y_pred_test = model.predict(X_test)\n",
    "# Take the class with the highest probability from the test predictions\n",
    "max_y_pred_test = np.argmax(y_pred_test, axis=1)\n",
    "max_y_test = np.argmax(Y_test, axis=1)\n",
    "\n",
    "matrix = metrics.confusion_matrix(max_y_test, max_y_pred_test)\n",
    "plt.figure(figsize=(6, 4))\n",
    "sns.heatmap(matrix,\n",
    "            cmap='PiYG_r',\n",
    "            linecolor='white',\n",
    "            linewidths=1,\n",
    "            xticklabels=LABELS,\n",
    "            yticklabels=LABELS,\n",
    "            annot=True,\n",
    "            fmt='d')\n",
    "plt.title('Confusion Matrix')\n",
    "plt.ylabel('True Label')\n",
    "plt.xlabel('Predicted Label')\n",
    "plt.show()"
   ]
  },
  {
   "cell_type": "code",
   "execution_count": 9,
   "metadata": {},
   "outputs": [
    {
     "name": "stdout",
     "output_type": "stream",
     "text": [
      "230/230 [==============================] - 1s 5ms/step\n",
      "Train_accuracy is:  0.9885745375408053\n",
      "93/93 [==============================] - 0s 4ms/step\n",
      "Test accuracy is:  0.9134713267729895\n"
     ]
    }
   ],
   "source": [
    "from sklearn.metrics import accuracy_score\n",
    "\n",
    "y_predict_train = model.predict(X_train).argmax(axis=1)\n",
    "print(\"Train_accuracy is: \", accuracy_score(Y_train.argmax(axis=1), y_predict_train))\n",
    "\n",
    "y_predict_test = model.predict(X_test).argmax(axis=1)\n",
    "print(\"Test accuracy is: \", accuracy_score(Y_test.argmax(axis=1), y_predict_test))"
   ]
  },
  {
   "cell_type": "code",
   "execution_count": 10,
   "metadata": {},
   "outputs": [
    {
     "name": "stdout",
     "output_type": "stream",
     "text": [
      "93/93 [==============================] - 0s 4ms/step\n",
      "230/230 [==============================] - 1s 3ms/step\n",
      "Test loss is:  0.5452077055073175\n",
      "Train loss is:  0.10688995490313753\n"
     ]
    }
   ],
   "source": [
    "from sklearn import metrics\n",
    "\n",
    "y_predict_test = model.predict(X_test).argmax(axis=1)\n",
    "y_predict_train = model.predict(X_train).argmax(axis=1)\n",
    "\n",
    "\n",
    "print(\"Test loss is: \", np.sqrt(metrics.mean_squared_error(Y_test.argmax(axis=1), y_predict_test)))\n",
    "print(\"Train loss is: \", np.sqrt(metrics.mean_squared_error(Y_train.argmax(axis=1), y_predict_train)))"
   ]
  },
  {
   "cell_type": "code",
   "execution_count": null,
   "metadata": {},
   "outputs": [],
   "source": []
  },
  {
   "cell_type": "code",
   "execution_count": null,
   "metadata": {},
   "outputs": [],
   "source": []
  },
  {
   "cell_type": "code",
   "execution_count": null,
   "metadata": {},
   "outputs": [],
   "source": []
  },
  {
   "cell_type": "code",
   "execution_count": null,
   "metadata": {},
   "outputs": [],
   "source": [
    "n_timesteps, n_features, n_outputs = trainX.shape[1], trainX.shape[2], trainy.shape[1]\n",
    "model = Sequential()\n",
    "model.add(LSTM(100, input_shape=(n_timesteps,n_features)))\n",
    "model.add(Dropout(0.5))\n",
    "model.add(Dense(100, activation='relu'))\n",
    "model.add(Dense(n_outputs, activation='softmax'))\n",
    "plot_model(model, show_shapes=True, show_layer_names=True)"
   ]
  },
  {
   "cell_type": "code",
   "execution_count": null,
   "metadata": {},
   "outputs": [],
   "source": [
    "model.compile(loss='categorical_crossentropy', optimizer='adam', metrics=['accuracy'])\n"
   ]
  },
  {
   "cell_type": "code",
   "execution_count": null,
   "metadata": {},
   "outputs": [],
   "source": [
    "# fit network\n",
    "train_epochs = 10\n",
    "history = model.fit(trainX, trainy, epochs=train_epochs, batch_size=batch_size, verbose=True,  validation_split=validation_split, shuffle=True)"
   ]
  },
  {
   "cell_type": "code",
   "execution_count": null,
   "metadata": {},
   "outputs": [],
   "source": [
    "plt.plot(history.history['loss'])\n",
    "plt.plot(history.history['val_loss'])\n",
    "plt.title('model loss')\n",
    "plt.ylabel('loss')\n",
    "plt.xlabel('epoch')\n",
    "plt.legend(['train', 'Validation'], loc='upper left')"
   ]
  }
 ],
 "metadata": {
  "kernelspec": {
   "display_name": "tf",
   "language": "python",
   "name": "python3"
  },
  "language_info": {
   "codemirror_mode": {
    "name": "ipython",
    "version": 3
   },
   "file_extension": ".py",
   "mimetype": "text/x-python",
   "name": "python",
   "nbconvert_exporter": "python",
   "pygments_lexer": "ipython3",
   "version": "3.9.16"
  },
  "orig_nbformat": 4
 },
 "nbformat": 4,
 "nbformat_minor": 2
}
