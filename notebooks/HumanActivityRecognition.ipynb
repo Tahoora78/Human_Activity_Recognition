{
 "cells": [
  {
   "cell_type": "code",
   "execution_count": 4,
   "metadata": {},
   "outputs": [],
   "source": [
    "import sys\n",
    "import pandas as pd\n",
    "\n",
    "sys.path.insert(0, '../')\n",
    "\n",
    "from src.data_prep.load import load_raw_data"
   ]
  },
  {
   "cell_type": "code",
   "execution_count": 2,
   "metadata": {},
   "outputs": [],
   "source": [
    "X_train, X_test, y_train, y_test, label2act, act2label = load_raw_data()"
   ]
  },
  {
   "cell_type": "code",
   "execution_count": 3,
   "metadata": {},
   "outputs": [],
   "source": [
    "import matplotlib.pyplot as plt\n",
    "import seaborn as sns\n",
    "\n",
    "sns.set_style('whitegrid')\n",
    "plt.rcParams['font.family'] = 'Dejavu Sans'"
   ]
  },
  {
   "cell_type": "code",
   "execution_count": 5,
   "metadata": {},
   "outputs": [
    {
     "ename": "AttributeError",
     "evalue": "'numpy.ndarray' object has no attribute 'map'",
     "output_type": "error",
     "traceback": [
      "\u001b[0;31m---------------------------------------------------------------------------\u001b[0m",
      "\u001b[0;31mAttributeError\u001b[0m                            Traceback (most recent call last)",
      "Cell \u001b[0;32mIn[5], line 1\u001b[0m\n\u001b[0;32m----> 1\u001b[0m y_train_labels \u001b[39m=\u001b[39m y_train\u001b[39m.\u001b[39;49mmap({\u001b[39m1\u001b[39m: \u001b[39m'\u001b[39m\u001b[39mWALKING\u001b[39m\u001b[39m'\u001b[39m, \u001b[39m2\u001b[39m:\u001b[39m'\u001b[39m\u001b[39mWALKING_UPSTAIRS\u001b[39m\u001b[39m'\u001b[39m,\u001b[39m3\u001b[39m:\u001b[39m'\u001b[39m\u001b[39mWALKING_DOWNSTAIRS\u001b[39m\u001b[39m'\u001b[39m,\\\n\u001b[1;32m      2\u001b[0m                        \u001b[39m4\u001b[39m:\u001b[39m'\u001b[39m\u001b[39mSITTING\u001b[39m\u001b[39m'\u001b[39m, \u001b[39m5\u001b[39m:\u001b[39m'\u001b[39m\u001b[39mSTANDING\u001b[39m\u001b[39m'\u001b[39m,\u001b[39m6\u001b[39m:\u001b[39m'\u001b[39m\u001b[39mLAYING\u001b[39m\u001b[39m'\u001b[39m})\n\u001b[1;32m      4\u001b[0m X_train_feat \u001b[39m=\u001b[39m X_train\u001b[39m.\u001b[39miloc[:,:\u001b[39m561\u001b[39m]\n\u001b[1;32m      5\u001b[0m X_train_feat\u001b[39m.\u001b[39mcolumns \u001b[39m=\u001b[39mfeatures\n",
      "\u001b[0;31mAttributeError\u001b[0m: 'numpy.ndarray' object has no attribute 'map'"
     ]
    }
   ],
   "source": [
    "y_train_labels = y_train.map({1: 'WALKING', 2:'WALKING_UPSTAIRS',3:'WALKING_DOWNSTAIRS',\\\n",
    "                       4:'SITTING', 5:'STANDING',6:'LAYING'})\n",
    "\n",
    "X_train_feat = X_train.iloc[:,:561]\n",
    "X_train_feat.columns =features\n",
    "X_train  = pd.concat([X_train_feat ,X_train.iloc[:,561:]] ,axis=1, join='inner')\n",
    "# put all columns in a single dataframe\n",
    "train = X_train\n",
    "train['Activity'] = y_train\n",
    "train['ActivityName'] = y_train_labels"
   ]
  },
  {
   "cell_type": "code",
   "execution_count": null,
   "metadata": {},
   "outputs": [],
   "source": [
    "plt.figure(figsize=(16,8))\n",
    "plt.title('Data provided by each user', fontsize=20)\n",
    "sns.countplot(x='subject',hue='ActivityName', data = train)\n",
    "plt.show()"
   ]
  }
 ],
 "metadata": {
  "kernelspec": {
   "display_name": "tf",
   "language": "python",
   "name": "python3"
  },
  "language_info": {
   "codemirror_mode": {
    "name": "ipython",
    "version": 3
   },
   "file_extension": ".py",
   "mimetype": "text/x-python",
   "name": "python",
   "nbconvert_exporter": "python",
   "pygments_lexer": "ipython3",
   "version": "3.9.16"
  },
  "orig_nbformat": 4
 },
 "nbformat": 4,
 "nbformat_minor": 2
}
