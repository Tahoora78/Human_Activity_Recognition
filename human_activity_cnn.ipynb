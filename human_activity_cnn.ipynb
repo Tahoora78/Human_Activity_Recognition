{
 "cells": [
  {
   "cell_type": "code",
   "execution_count": 4,
   "metadata": {
    "collapsed": true,
    "ExecuteTime": {
     "start_time": "2023-04-05T01:02:54.023158Z",
     "end_time": "2023-04-05T01:02:56.339978Z"
    }
   },
   "outputs": [
    {
     "ename": "ModuleNotFoundError",
     "evalue": "No module named 'tensorflow'",
     "output_type": "error",
     "traceback": [
      "\u001B[0;31m---------------------------------------------------------------------------\u001B[0m",
      "\u001B[0;31mModuleNotFoundError\u001B[0m                       Traceback (most recent call last)",
      "Cell \u001B[0;32mIn[4], line 5\u001B[0m\n\u001B[1;32m      2\u001B[0m \u001B[38;5;28;01mimport\u001B[39;00m \u001B[38;5;21;01mnumpy\u001B[39;00m \u001B[38;5;28;01mas\u001B[39;00m \u001B[38;5;21;01mnp\u001B[39;00m\n\u001B[1;32m      3\u001B[0m \u001B[38;5;28;01mimport\u001B[39;00m \u001B[38;5;21;01mmatplotlib\u001B[39;00m\u001B[38;5;21;01m.\u001B[39;00m\u001B[38;5;21;01mpyplot\u001B[39;00m \u001B[38;5;28;01mas\u001B[39;00m \u001B[38;5;21;01mplt\u001B[39;00m\n\u001B[0;32m----> 5\u001B[0m \u001B[38;5;28;01mimport\u001B[39;00m \u001B[38;5;21;01mtensorflow\u001B[39;00m \u001B[38;5;28;01mas\u001B[39;00m \u001B[38;5;21;01mtf\u001B[39;00m\n\u001B[1;32m      7\u001B[0m \u001B[38;5;28;01mfrom\u001B[39;00m \u001B[38;5;21;01mtensorflow\u001B[39;00m\u001B[38;5;21;01m.\u001B[39;00m\u001B[38;5;21;01mkeras\u001B[39;00m\u001B[38;5;21;01m.\u001B[39;00m\u001B[38;5;21;01mlayers\u001B[39;00m \u001B[38;5;28;01mimport\u001B[39;00m Dense, Input, GlobalMaxPooling1D, GlobalMaxPooling1D,GlobalAveragePooling1D, Flatten\n\u001B[1;32m      8\u001B[0m \u001B[38;5;28;01mfrom\u001B[39;00m \u001B[38;5;21;01mtensorflow\u001B[39;00m\u001B[38;5;21;01m.\u001B[39;00m\u001B[38;5;21;01mkeras\u001B[39;00m\u001B[38;5;21;01m.\u001B[39;00m\u001B[38;5;21;01mlayers\u001B[39;00m \u001B[38;5;28;01mimport\u001B[39;00m Conv1D, MaxPooling1D\n",
      "\u001B[0;31mModuleNotFoundError\u001B[0m: No module named 'tensorflow'"
     ]
    }
   ],
   "source": [
    "import pandas as pd\n",
    "import numpy as np\n",
    "import matplotlib.pyplot as plt\n",
    "\n",
    "import tensorflow as tf\n",
    "\n",
    "from tensorflow.keras.layers import Dense, Input, GlobalMaxPooling1D, GlobalMaxPooling1D,GlobalAveragePooling1D, Flatten\n",
    "from tensorflow.keras.layers import Conv1D, MaxPooling1D\n",
    "from tensorflow.keras.models import Model\n",
    "from tensorflow.keras.losses import SparseCategoricalCrossentropy\n",
    "from tensorflow.keras.callbacks import ModelCheckpoint\n",
    "\n",
    "from sklearn.metrics import r2_score\n",
    "from sklearn.preprocessing import StandardScaler\n",
    "\n",
    "np.random.seed(0)\n",
    "tf.random.set_seed(0)"
   ]
  },
  {
   "cell_type": "code",
   "execution_count": null,
   "outputs": [],
   "source": [
    "T = 128\n",
    "Ntrain = 7352\n",
    "Ntest = 2947\n",
    "D = 9 # there are 9 files\n",
    "k = 6 # number of classes (1-6)"
   ],
   "metadata": {
    "collapsed": false,
    "ExecuteTime": {
     "start_time": "2023-04-05T01:02:56.343279Z",
     "end_time": "2023-04-05T01:02:56.347021Z"
    }
   }
  },
  {
   "cell_type": "code",
   "execution_count": 3,
   "outputs": [],
   "source": [
    "def load_data():\n",
    "    # returns\n",
    "    # Xtrain (Ntrain x T x D), Ytrain (Ntrain)\n",
    "    Xtrain = np.zeros((Ntrain, T, D))\n",
    "    Xtest = np.zeros((Ntest, T, D))\n",
    "\n",
    "    ts_filenames = [\n",
    "        'body_acc_x_train.txt', 'body_gyro_x_train.txt', 'total_acc_x_train.txt', 'body_acc_y_train.txt', 'body_gyro_y_train.txt', 'total_acc_y_train.txt',\n",
    "        'body_acc_z_train.txt', 'body_gyro_z_train.txt', 'total_acc_z_train.txt'\n",
    "    ]\n",
    "\n",
    "    ts_file_prefix = 'UCI-HAR/UCI-HAR-Dataset/train/'\n",
    "    for d, fn in enumerate(ts_filenames):\n",
    "        df = pd.read_csv(\n",
    "            f'{ts_file_prefix}Inertial-Signals/{fn}',\n",
    "            header=None,\n",
    "            delim_whitespace=True\n",
    "        )\n",
    "\n",
    "    x = df.to_numpy()\n",
    "    Xtrain[:, :, d] = x\n",
    "\n",
    "    Ytrain = pd.read_csv(\n",
    "        f'{ts_file_prefix}y_train.txt', header=None).to_numpy() -1\n",
    "    Ytrain = Ytrain.flatten()\n",
    "\n",
    "    ts_filenames = [\n",
    "        'body_acc_x_test.txt', 'body_gyro_x_test.txt', 'total_acc_test.txt',\n",
    "        'body_acc_y_test.txt', 'body_gyro_y_test.txt', 'total_acc_y_test.txt',\n",
    "        'body_acc_z_test.txt', 'body_gyro_z_test.txt', 'total_acc_z_test.txt'\n",
    "    ]\n",
    "\n",
    "    ts_file_prefix = 'UCI-HAR/UCI-HAR-Dataset/test/'\n",
    "\n",
    "    for d, fn in enumerate(ts_filenames):\n",
    "        df = pd.read_csv(\n",
    "            f'{ts_file_prefix}Inertial-Signals/{fn}',\n",
    "            header=None,\n",
    "            delim_whitespace=True)\n",
    "\n",
    "        x = df.to_numpy()\n",
    "        Xtest[:, :, d] = x\n",
    "\n",
    "        Ytest = pd.read_csv(\n",
    "            f'{ts_file_prefix}y_test.txt', header=None).to_numpy() -1\n",
    "        Ytest = Ytest.flatten()\n",
    "\n",
    "        return Xtrain, Ytrain, Xtest, Ytest"
   ],
   "metadata": {
    "collapsed": false,
    "ExecuteTime": {
     "start_time": "2023-04-05T01:02:56.349927Z",
     "end_time": "2023-04-05T01:02:56.368290Z"
    }
   }
  },
  {
   "cell_type": "code",
   "execution_count": 4,
   "outputs": [],
   "source": [
    "Xtrain, Ytrain, Xtest, Ytest = load_data()"
   ],
   "metadata": {
    "collapsed": false,
    "ExecuteTime": {
     "start_time": "2023-04-05T01:02:56.363032Z",
     "end_time": "2023-04-05T01:02:58.738247Z"
    }
   }
  },
  {
   "cell_type": "code",
   "execution_count": 5,
   "outputs": [
    {
     "data": {
      "text/plain": "2947"
     },
     "execution_count": 5,
     "metadata": {},
     "output_type": "execute_result"
    }
   ],
   "source": [
    "len(Ytest)"
   ],
   "metadata": {
    "collapsed": false,
    "ExecuteTime": {
     "start_time": "2023-04-05T01:02:58.740291Z",
     "end_time": "2023-04-05T01:02:58.752061Z"
    }
   }
  },
  {
   "cell_type": "code",
   "execution_count": 6,
   "outputs": [
    {
     "data": {
      "text/plain": "<Figure size 640x480 with 1 Axes>",
      "image/png": "[encoded data removed]"
     },
     "metadata": {},
     "output_type": "display_data"
    }
   ],
   "source": [
    "plt.plot(Xtrain[7000, :, :]);"
   ],
   "metadata": {
    "collapsed": false,
    "ExecuteTime": {
     "start_time": "2023-04-05T01:02:58.751832Z",
     "end_time": "2023-04-05T01:02:58.932469Z"
    }
   }
  },
  {
   "cell_type": "code",
   "execution_count": 7,
   "outputs": [
    {
     "data": {
      "text/plain": "array([[0.       , 0.       , 0.       , ..., 0.       , 0.       ,\n        0.2819087],\n       [0.       , 0.       , 0.       , ..., 0.       , 0.       ,\n        0.2809712],\n       [0.       , 0.       , 0.       , ..., 0.       , 0.       ,\n        0.2804833],\n       ...,\n       [0.       , 0.       , 0.       , ..., 0.       , 0.       ,\n        0.4192851],\n       [0.       , 0.       , 0.       , ..., 0.       , 0.       ,\n        0.4406889],\n       [0.       , 0.       , 0.       , ..., 0.       , 0.       ,\n        0.4712126]])"
     },
     "execution_count": 7,
     "metadata": {},
     "output_type": "execute_result"
    }
   ],
   "source": [
    "Xtrain[7000, :, :]"
   ],
   "metadata": {
    "collapsed": false,
    "ExecuteTime": {
     "start_time": "2023-04-05T01:02:58.932685Z",
     "end_time": "2023-04-05T01:02:58.938297Z"
    }
   }
  },
  {
   "cell_type": "code",
   "execution_count": 8,
   "outputs": [
    {
     "name": "stderr",
     "output_type": "stream",
     "text": [
      "2023-04-05 01:02:59.006698: I tensorflow/compiler/xla/stream_executor/cuda/cuda_gpu_executor.cc:981] successful NUMA node read from SysFS had negative value (-1), but there must be at least one NUMA node, so returning NUMA node zero\n",
      "2023-04-05 01:02:59.007174: W tensorflow/compiler/xla/stream_executor/platform/default/dso_loader.cc:64] Could not load dynamic library 'libcudart.so.11.0'; dlerror: libcudart.so.11.0: cannot open shared object file: No such file or directory\n",
      "2023-04-05 01:02:59.007313: W tensorflow/compiler/xla/stream_executor/platform/default/dso_loader.cc:64] Could not load dynamic library 'libcublas.so.11'; dlerror: libcublas.so.11: cannot open shared object file: No such file or directory\n",
      "2023-04-05 01:02:59.007402: W tensorflow/compiler/xla/stream_executor/platform/default/dso_loader.cc:64] Could not load dynamic library 'libcublasLt.so.11'; dlerror: libcublasLt.so.11: cannot open shared object file: No such file or directory\n",
      "2023-04-05 01:02:59.007508: W tensorflow/compiler/xla/stream_executor/platform/default/dso_loader.cc:64] Could not load dynamic library 'libcufft.so.10'; dlerror: libcufft.so.10: cannot open shared object file: No such file or directory\n",
      "2023-04-05 01:02:59.007612: W tensorflow/compiler/xla/stream_executor/platform/default/dso_loader.cc:64] Could not load dynamic library 'libcurand.so.10'; dlerror: libcurand.so.10: cannot open shared object file: No such file or directory\n",
      "2023-04-05 01:02:59.007694: W tensorflow/compiler/xla/stream_executor/platform/default/dso_loader.cc:64] Could not load dynamic library 'libcusolver.so.11'; dlerror: libcusolver.so.11: cannot open shared object file: No such file or directory\n",
      "2023-04-05 01:02:59.007761: W tensorflow/compiler/xla/stream_executor/platform/default/dso_loader.cc:64] Could not load dynamic library 'libcusparse.so.11'; dlerror: libcusparse.so.11: cannot open shared object file: No such file or directory\n",
      "2023-04-05 01:02:59.007827: W tensorflow/compiler/xla/stream_executor/platform/default/dso_loader.cc:64] Could not load dynamic library 'libcudnn.so.8'; dlerror: libcudnn.so.8: cannot open shared object file: No such file or directory\n",
      "2023-04-05 01:02:59.007843: W tensorflow/core/common_runtime/gpu/gpu_device.cc:1934] Cannot dlopen some GPU libraries. Please make sure the missing libraries mentioned above are installed properly if you would like to use GPU. Follow the guide at https://www.tensorflow.org/install/gpu for how to download and setup the required libraries for your platform.\n",
      "Skipping registering GPU devices...\n",
      "2023-04-05 01:02:59.008192: I tensorflow/core/platform/cpu_feature_guard.cc:193] This TensorFlow binary is optimized with oneAPI Deep Neural Network Library (oneDNN) to use the following CPU instructions in performance-critical operations:  AVX2 FMA\n",
      "To enable them in other operations, rebuild TensorFlow with the appropriate compiler flags.\n"
     ]
    }
   ],
   "source": [
    "# CNN\n",
    "i = Input(shape=(T, D))\n",
    "x = Conv1D(32, 5, activation='relu')(i)\n",
    "x = MaxPooling1D(3)(x)\n",
    "x = Conv1D(64, 3, activation='relu')(x)\n",
    "x = MaxPooling1D(2)(x)\n",
    "x = Conv1D(128, 3, activation='relu')(x)\n",
    "x = GlobalMaxPooling1D()(x)\n",
    "x = Dense(k)(x)\n",
    "model = Model(i, x)"
   ],
   "metadata": {
    "collapsed": false,
    "ExecuteTime": {
     "start_time": "2023-04-05T01:02:58.939753Z",
     "end_time": "2023-04-05T01:02:59.129104Z"
    }
   }
  },
  {
   "cell_type": "code",
   "execution_count": 9,
   "outputs": [
    {
     "name": "stdout",
     "output_type": "stream",
     "text": [
      "Model: \"model\"\n",
      "_________________________________________________________________\n",
      " Layer (type)                Output Shape              Param #   \n",
      "=================================================================\n",
      " input_1 (InputLayer)        [(None, 128, 9)]          0         \n",
      "                                                                 \n",
      " conv1d (Conv1D)             (None, 124, 32)           1472      \n",
      "                                                                 \n",
      " max_pooling1d (MaxPooling1D  (None, 41, 32)           0         \n",
      " )                                                               \n",
      "                                                                 \n",
      " conv1d_1 (Conv1D)           (None, 39, 64)            6208      \n",
      "                                                                 \n",
      " max_pooling1d_1 (MaxPooling  (None, 19, 64)           0         \n",
      " 1D)                                                             \n",
      "                                                                 \n",
      " conv1d_2 (Conv1D)           (None, 17, 128)           24704     \n",
      "                                                                 \n",
      " global_max_pooling1d (Globa  (None, 128)              0         \n",
      " lMaxPooling1D)                                                  \n",
      "                                                                 \n",
      " dense (Dense)               (None, 6)                 774       \n",
      "                                                                 \n",
      "=================================================================\n",
      "Total params: 33,158\n",
      "Trainable params: 33,158\n",
      "Non-trainable params: 0\n",
      "_________________________________________________________________\n"
     ]
    }
   ],
   "source": [
    "model.summary()"
   ],
   "metadata": {
    "collapsed": false,
    "ExecuteTime": {
     "start_time": "2023-04-05T01:02:59.127648Z",
     "end_time": "2023-04-05T01:02:59.183354Z"
    }
   }
  },
  {
   "cell_type": "code",
   "execution_count": 12,
   "outputs": [
    {
     "name": "stdout",
     "output_type": "stream",
     "text": [
      "You must install pydot (`pip install pydot`) and install graphviz (see instructions at https://graphviz.gitlab.io/download/) for plot_model to work.\n"
     ]
    }
   ],
   "source": [
    "tf.keras.utils.plot_model(model)"
   ],
   "metadata": {
    "collapsed": false,
    "ExecuteTime": {
     "start_time": "2023-04-05T01:03:14.233701Z",
     "end_time": "2023-04-05T01:03:14.241957Z"
    }
   }
  },
  {
   "cell_type": "code",
   "execution_count": 13,
   "outputs": [],
   "source": [
    "check_point = ModelCheckpoint(\n",
    "    'best_model.h5', monitor='val_accuracy', save_best_only=True\n",
    ")"
   ],
   "metadata": {
    "collapsed": false,
    "ExecuteTime": {
     "start_time": "2023-04-05T01:04:28.730182Z",
     "end_time": "2023-04-05T01:04:28.770884Z"
    }
   }
  },
  {
   "cell_type": "code",
   "execution_count": 14,
   "outputs": [],
   "source": [
    "model.compile(\n",
    "    loss=SparseCategoricalCrossentropy(from_logits=True),\n",
    "    optimizer='adam',\n",
    "    metrics=['accuracy'],\n",
    ")"
   ],
   "metadata": {
    "collapsed": false,
    "ExecuteTime": {
     "start_time": "2023-04-05T01:05:27.915451Z",
     "end_time": "2023-04-05T01:05:27.959010Z"
    }
   }
  },
  {
   "cell_type": "code",
   "execution_count": 15,
   "outputs": [
    {
     "name": "stdout",
     "output_type": "stream",
     "text": [
      "Epoch 1/15\n",
      "230/230 [==============================] - 3s 8ms/step - loss: 1.0486 - accuracy: 0.5929 - val_loss: 1.6580 - val_accuracy: 0.3370\n",
      "Epoch 2/15\n",
      "230/230 [==============================] - 1s 6ms/step - loss: 0.6465 - accuracy: 0.7499 - val_loss: 1.6888 - val_accuracy: 0.3468\n",
      "Epoch 3/15\n",
      "230/230 [==============================] - 1s 6ms/step - loss: 0.5789 - accuracy: 0.7803 - val_loss: 1.6414 - val_accuracy: 0.2993\n",
      "Epoch 4/15\n",
      "230/230 [==============================] - 1s 6ms/step - loss: 0.5389 - accuracy: 0.7897 - val_loss: 1.6653 - val_accuracy: 0.3359\n",
      "Epoch 5/15\n",
      "230/230 [==============================] - 1s 6ms/step - loss: 0.5085 - accuracy: 0.8006 - val_loss: 1.9029 - val_accuracy: 0.2979\n",
      "Epoch 6/15\n",
      "230/230 [==============================] - 1s 6ms/step - loss: 0.4869 - accuracy: 0.8048 - val_loss: 1.7581 - val_accuracy: 0.2762\n",
      "Epoch 7/15\n",
      "230/230 [==============================] - 1s 6ms/step - loss: 0.4652 - accuracy: 0.8172 - val_loss: 1.9648 - val_accuracy: 0.2538\n",
      "Epoch 8/15\n",
      "230/230 [==============================] - 1s 6ms/step - loss: 0.4545 - accuracy: 0.8179 - val_loss: 1.7028 - val_accuracy: 0.2996\n",
      "Epoch 9/15\n",
      "230/230 [==============================] - 1s 6ms/step - loss: 0.4412 - accuracy: 0.8210 - val_loss: 2.6541 - val_accuracy: 0.2111\n",
      "Epoch 10/15\n",
      "230/230 [==============================] - 1s 6ms/step - loss: 0.4422 - accuracy: 0.8198 - val_loss: 2.4276 - val_accuracy: 0.2270\n",
      "Epoch 11/15\n",
      "230/230 [==============================] - 1s 6ms/step - loss: 0.4273 - accuracy: 0.8221 - val_loss: 2.1567 - val_accuracy: 0.2599\n",
      "Epoch 12/15\n",
      "230/230 [==============================] - 1s 6ms/step - loss: 0.4186 - accuracy: 0.8297 - val_loss: 2.4404 - val_accuracy: 0.2236\n",
      "Epoch 13/15\n",
      "230/230 [==============================] - 1s 6ms/step - loss: 0.4137 - accuracy: 0.8296 - val_loss: 2.9062 - val_accuracy: 0.2365\n",
      "Epoch 14/15\n",
      "230/230 [==============================] - 1s 6ms/step - loss: 0.4145 - accuracy: 0.8292 - val_loss: 3.5335 - val_accuracy: 0.1982\n",
      "Epoch 15/15\n",
      "230/230 [==============================] - 1s 6ms/step - loss: 0.4024 - accuracy: 0.8358 - val_loss: 2.5389 - val_accuracy: 0.2284\n"
     ]
    }
   ],
   "source": [
    "r = model.fit(\n",
    "    Xtrain,\n",
    "    Ytrain,\n",
    "    epochs=15,\n",
    "    callbacks=[check_point],\n",
    "    validation_data=(Xtest, Ytest)\n",
    ")"
   ],
   "metadata": {
    "collapsed": false,
    "ExecuteTime": {
     "start_time": "2023-04-05T01:06:47.569457Z",
     "end_time": "2023-04-05T01:07:10.227686Z"
    }
   }
  },
  {
   "cell_type": "code",
   "execution_count": 16,
   "outputs": [
    {
     "data": {
      "text/plain": "<matplotlib.legend.Legend at 0x7fe2e7a0d240>"
     },
     "execution_count": 16,
     "metadata": {},
     "output_type": "execute_result"
    },
    {
     "data": {
      "text/plain": "<Figure size 640x480 with 1 Axes>",
      "image/png": "[encoded data removed]"
     },
     "metadata": {},
     "output_type": "display_data"
    }
   ],
   "source": [
    "plt.plot(r.history['loss'], label='train loss')\n",
    "plt.plot(r.history['val_loss'], label='test loss')\n",
    "plt.legend()"
   ],
   "metadata": {
    "collapsed": false,
    "ExecuteTime": {
     "start_time": "2023-04-05T01:14:00.635083Z",
     "end_time": "2023-04-05T01:14:00.960601Z"
    }
   }
  },
  {
   "cell_type": "code",
   "execution_count": 17,
   "outputs": [],
   "source": [
    "best_model = tf.keras.models.load_model('best_model.h5')"
   ],
   "metadata": {
    "collapsed": false,
    "ExecuteTime": {
     "start_time": "2023-04-05T01:14:55.857324Z",
     "end_time": "2023-04-05T01:14:55.964489Z"
    }
   }
  },
  {
   "cell_type": "code",
   "execution_count": 18,
   "outputs": [
    {
     "name": "stdout",
     "output_type": "stream",
     "text": [
      "93/93 [==============================] - 0s 2ms/step\n"
     ]
    }
   ],
   "source": [
    "Ptest = best_model.predict(Xtest)"
   ],
   "metadata": {
    "collapsed": false,
    "ExecuteTime": {
     "start_time": "2023-04-05T01:15:09.714299Z",
     "end_time": "2023-04-05T01:15:10.151087Z"
    }
   }
  },
  {
   "cell_type": "code",
   "execution_count": 19,
   "outputs": [
    {
     "data": {
      "text/plain": "0.34679334916864607"
     },
     "execution_count": 19,
     "metadata": {},
     "output_type": "execute_result"
    }
   ],
   "source": [
    "np.mean(np.argmax(Ptest, axis=1) == Ytest)"
   ],
   "metadata": {
    "collapsed": false,
    "ExecuteTime": {
     "start_time": "2023-04-05T01:15:51.230685Z",
     "end_time": "2023-04-05T01:15:51.249277Z"
    }
   }
  },
  {
   "cell_type": "code",
   "execution_count": 22,
   "outputs": [],
   "source": [
    "from sklearn.preprocessing import StandardScaler\n",
    "\n",
    "def load_features():\n",
    "    df = pd.read_csv(\n",
    "        'UCI-HAR/UCI-HAR-Dataset/train/X_train.txt',\n",
    "        header=None,\n",
    "        delim_whitespace=True\n",
    "    )\n",
    "\n",
    "    feat_train = df.to_numpy()\n",
    "\n",
    "    df = pd.read_csv(\n",
    "        'UCI-HAR/UCI-HAR-Dataset/test/X_test.txt',\n",
    "        header=None,\n",
    "        delim_whitespace=True\n",
    "    )\n",
    "\n",
    "    feat_test = df.to_numpy()\n",
    "\n",
    "    scaler = StandardScaler()\n",
    "    feat_train = scaler.fit_transform(feat_train)\n",
    "    feat_test = scaler.fit_transform(feat_test)\n",
    "\n",
    "    return feat_train, feat_test"
   ],
   "metadata": {
    "collapsed": false,
    "ExecuteTime": {
     "start_time": "2023-04-05T01:21:45.885271Z",
     "end_time": "2023-04-05T01:21:45.892734Z"
    }
   }
  },
  {
   "cell_type": "code",
   "execution_count": 23,
   "outputs": [],
   "source": [
    "feat_train, feat_test = load_features()"
   ],
   "metadata": {
    "collapsed": false,
    "ExecuteTime": {
     "start_time": "2023-04-05T01:21:47.088984Z",
     "end_time": "2023-04-05T01:21:48.705155Z"
    }
   }
  },
  {
   "cell_type": "code",
   "execution_count": 24,
   "outputs": [
    {
     "data": {
      "text/plain": "array([[ 0.20064157, -0.0636826 , -0.41962845, ..., -0.68721921,\n         0.40794614, -0.00756789],\n       [ 0.05594788,  0.03148567, -0.25390836, ..., -0.694138  ,\n         0.40911698,  0.00787517],\n       [ 0.07351535, -0.04341648, -0.07629468, ..., -0.702239  ,\n         0.4102883 ,  0.02650234],\n       ...,\n       [-0.01566765,  0.0167814 ,  1.13222107, ..., -0.56584847,\n         0.64059683,  0.34870928],\n       [ 0.21586648, -0.02812252, -0.86770988, ..., -0.57766781,\n         0.63147758,  0.29327564],\n       [ 1.09620157,  0.12919873, -1.67268082, ..., -0.57392691,\n         0.63274259,  0.33396081]])"
     },
     "execution_count": 24,
     "metadata": {},
     "output_type": "execute_result"
    }
   ],
   "source": [
    "feat_train"
   ],
   "metadata": {
    "collapsed": false,
    "ExecuteTime": {
     "start_time": "2023-04-05T01:21:53.643481Z",
     "end_time": "2023-04-05T01:21:53.693238Z"
    }
   }
  },
  {
   "cell_type": "code",
   "execution_count": 25,
   "outputs": [],
   "source": [
    "D_feat = feat_train.shape[1]"
   ],
   "metadata": {
    "collapsed": false,
    "ExecuteTime": {
     "start_time": "2023-04-05T01:22:27.218648Z",
     "end_time": "2023-04-05T01:22:27.262760Z"
    }
   }
  },
  {
   "cell_type": "code",
   "execution_count": 26,
   "outputs": [
    {
     "data": {
      "text/plain": "561"
     },
     "execution_count": 26,
     "metadata": {},
     "output_type": "execute_result"
    }
   ],
   "source": [
    "D_feat"
   ],
   "metadata": {
    "collapsed": false,
    "ExecuteTime": {
     "start_time": "2023-04-05T01:22:30.857822Z",
     "end_time": "2023-04-05T01:22:30.887239Z"
    }
   }
  },
  {
   "cell_type": "code",
   "execution_count": null,
   "outputs": [],
   "source": [
    "#CNN\n",
    "i = Input(shape=(T,D))\n",
    "x = Conv1D(32, 5, activation='relu')(i)\n",
    "x = MaxPooling1D(3)(x)\n",
    "x = Conv1D(64, 3, activation='relu')(x)\n",
    "x = MaxPooling1D(2)(x)\n",
    "x = Conv1D(128, 3, activation='relu')(x)\n",
    "x = GlobalMaxPooling1D()(x)\n",
    "\n",
    "# ANN\n",
    "i2 = Input(shape=(D_feat, ))\n",
    "x2 = Dense(64, activation='relu')(i2)\n",
    "\n",
    "x = Concatenate()([x, x2])\n",
    "\n",
    "\n"
   ],
   "metadata": {
    "collapsed": false
   }
  }
 ],
 "metadata": {
  "kernelspec": {
   "display_name": "Python 3",
   "language": "python",
   "name": "python3"
  },
  "language_info": {
   "codemirror_mode": {
    "name": "ipython",
    "version": 2
   },
   "file_extension": ".py",
   "mimetype": "text/x-python",
   "name": "python",
   "nbconvert_exporter": "python",
   "pygments_lexer": "ipython2",
   "version": "2.7.6"
  }
 },
 "nbformat": 4,
 "nbformat_minor": 0
}
