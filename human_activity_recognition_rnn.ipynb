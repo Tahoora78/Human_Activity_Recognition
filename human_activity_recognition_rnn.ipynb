{
 "cells": [
  {
   "cell_type": "code",
   "execution_count": 1,
   "metadata": {
    "collapsed": true,
    "ExecuteTime": {
     "end_time": "2023-06-13T12:45:09.415137730Z",
     "start_time": "2023-06-13T12:45:05.081771855Z"
    }
   },
   "outputs": [
    {
     "name": "stderr",
     "output_type": "stream",
     "text": [
      "2023-06-13 16:15:06.984729: I tensorflow/core/platform/cpu_feature_guard.cc:182] This TensorFlow binary is optimized to use available CPU instructions in performance-critical operations.\n",
      "To enable the following instructions: AVX2 FMA, in other operations, rebuild TensorFlow with the appropriate compiler flags.\n",
      "2023-06-13 16:15:08.203375: W tensorflow/compiler/tf2tensorrt/utils/py_utils.cc:38] TF-TRT Warning: Could not find TensorRT\n"
     ]
    }
   ],
   "source": [
    "import pandas as pd\n",
    "import numpy as np\n",
    "import matplotlib.pyplot as plt\n",
    "\n",
    "import tensorflow as tf\n",
    "from tensorflow.keras.layers import Dense, Input, GlobalMaxPooling1D, LSTM, Concatenate\n",
    "from tensorflow.keras.models import Model\n",
    "from tensorflow.keras.losses import SparseCategoricalCrossentropy\n",
    "from tensorflow.keras.callbacks import ModelCheckpoint\n",
    "\n",
    "np.random.seed(0)\n",
    "tf.random.set_seed(0)"
   ]
  },
  {
   "cell_type": "code",
   "execution_count": 2,
   "outputs": [],
   "source": [
    "T = 128\n",
    "Ntrain = 7352\n",
    "Ntest = 2947\n",
    "D = 9 # we have 9 files\n",
    "K = 6 # number of classes"
   ],
   "metadata": {
    "collapsed": false,
    "ExecuteTime": {
     "start_time": "2023-04-10T19:41:37.715360Z",
     "end_time": "2023-04-10T19:41:37.719032Z"
    }
   }
  },
  {
   "cell_type": "code",
   "execution_count": 6,
   "outputs": [],
   "source": [
    "def load_data():\n",
    "    # returns\n",
    "    # Xtrain (Ntrain x T x D), Ytrain (Ntrain)\n",
    "    Xtrain = np.zeros((Ntrain, T, D))\n",
    "    Xtest = np.zeros((Ntest, T, D))\n",
    "\n",
    "    ts_filenames = [\n",
    "        'body_acc_x_train.txt', 'body_gyro_x_train.txt', 'total_acc_x_train.txt', 'body_acc_y_train.txt', 'body_gyro_y_train.txt', 'total_acc_y_train.txt',\n",
    "        'body_acc_z_train.txt', 'body_gyro_z_train.txt', 'total_acc_z_train.txt'\n",
    "    ]\n",
    "\n",
    "    ts_file_prefix = 'UCI-HAR/UCI-HAR-Dataset/train/'\n",
    "    for d, fn in enumerate(ts_filenames):\n",
    "        df = pd.read_csv(\n",
    "            f'{ts_file_prefix}Inertial-Signals/{fn}',\n",
    "            header=None,\n",
    "            delim_whitespace=True\n",
    "        )\n",
    "\n",
    "    x = df.to_numpy()\n",
    "    Xtrain[:, :, d] = x\n",
    "\n",
    "    Ytrain = pd.read_csv(\n",
    "        f'{ts_file_prefix}y_train.txt', header=None).to_numpy() -1\n",
    "    Ytrain = Ytrain.flatten()\n",
    "\n",
    "    ts_filenames = [\n",
    "        'body_acc_x_test.txt', 'body_gyro_x_test.txt', 'total_acc_test.txt',\n",
    "        'body_acc_y_test.txt', 'body_gyro_y_test.txt', 'total_acc_y_test.txt',\n",
    "        'body_acc_z_test.txt', 'body_gyro_z_test.txt', 'total_acc_z_test.txt'\n",
    "    ]\n",
    "\n",
    "    ts_file_prefix = 'UCI-HAR/UCI-HAR-Dataset/test/'\n",
    "\n",
    "    for d, fn in enumerate(ts_filenames):\n",
    "        df = pd.read_csv(\n",
    "            f'{ts_file_prefix}Inertial-Signals/{fn}',\n",
    "            header=None,\n",
    "            delim_whitespace=True)\n",
    "\n",
    "        x = df.to_numpy()\n",
    "        Xtest[:, :, d] = x\n",
    "\n",
    "        Ytest = pd.read_csv(\n",
    "            f'{ts_file_prefix}y_test.txt', header=None).to_numpy() -1\n",
    "        Ytest = Ytest.flatten()\n",
    "\n",
    "        return Xtrain, Ytrain, Xtest, Ytest"
   ],
   "metadata": {
    "collapsed": false,
    "ExecuteTime": {
     "start_time": "2023-04-10T19:47:55.609695Z",
     "end_time": "2023-04-10T19:47:55.615241Z"
    }
   }
  },
  {
   "cell_type": "code",
   "execution_count": 4,
   "outputs": [],
   "source": [
    "Xtrain, Ytrain, Xtest, Ytest = load_data()"
   ],
   "metadata": {
    "collapsed": false,
    "ExecuteTime": {
     "start_time": "2023-04-10T19:41:37.730908Z",
     "end_time": "2023-04-10T19:41:40.059286Z"
    }
   }
  },
  {
   "cell_type": "code",
   "execution_count": 9,
   "outputs": [],
   "source": [
    "X_train = pd.read_csv(\"UCI-HAR/UCI-HAR-Dataset/train/X_train.txt\", header=None).to_numpy()"
   ],
   "metadata": {
    "collapsed": false,
    "ExecuteTime": {
     "start_time": "2023-04-10T19:50:12.086118Z",
     "end_time": "2023-04-10T19:50:12.662096Z"
    }
   }
  },
  {
   "cell_type": "code",
   "execution_count": 23,
   "outputs": [
    {
     "data": {
      "text/plain": "7352"
     },
     "execution_count": 23,
     "metadata": {},
     "output_type": "execute_result"
    }
   ],
   "source": [
    "len(Ytrain)"
   ],
   "metadata": {
    "collapsed": false,
    "ExecuteTime": {
     "start_time": "2023-04-10T19:53:37.090430Z",
     "end_time": "2023-04-10T19:53:37.133961Z"
    }
   }
  },
  {
   "cell_type": "code",
   "execution_count": 5,
   "outputs": [
    {
     "data": {
      "text/plain": "array([[0.        , 0.        , 0.        , ..., 0.        , 0.        ,\n        0.1029341 ],\n       [0.        , 0.        , 0.        , ..., 0.        , 0.        ,\n        0.1056872 ],\n       [0.        , 0.        , 0.        , ..., 0.        , 0.        ,\n        0.1021025 ],\n       ...,\n       [0.        , 0.        , 0.        , ..., 0.        , 0.        ,\n        0.1003852 ],\n       [0.        , 0.        , 0.        , ..., 0.        , 0.        ,\n        0.09987355],\n       [0.        , 0.        , 0.        , ..., 0.        , 0.        ,\n        0.09498741]])"
     },
     "execution_count": 5,
     "metadata": {},
     "output_type": "execute_result"
    }
   ],
   "source": [
    "Xtrain[0]"
   ],
   "metadata": {
    "collapsed": false,
    "ExecuteTime": {
     "start_time": "2023-04-10T19:41:50.280306Z",
     "end_time": "2023-04-10T19:41:50.297587Z"
    }
   }
  },
  {
   "cell_type": "code",
   "execution_count": 5,
   "outputs": [
    {
     "data": {
      "text/plain": "[<matplotlib.lines.Line2D at 0x7f4ad99209a0>,\n <matplotlib.lines.Line2D at 0x7f4ad9920940>,\n <matplotlib.lines.Line2D at 0x7f4ad9920910>,\n <matplotlib.lines.Line2D at 0x7f4ad9920820>,\n <matplotlib.lines.Line2D at 0x7f4ad9920730>,\n <matplotlib.lines.Line2D at 0x7f4ad9920640>,\n <matplotlib.lines.Line2D at 0x7f4ad9920550>,\n <matplotlib.lines.Line2D at 0x7f4ad9920460>,\n <matplotlib.lines.Line2D at 0x7f4ad9921a80>]"
     },
     "execution_count": 5,
     "metadata": {},
     "output_type": "execute_result"
    },
    {
     "data": {
      "text/plain": "<Figure size 640x480 with 1 Axes>",
      "image/png": "[encoded data removed]"
     },
     "metadata": {},
     "output_type": "display_data"
    }
   ],
   "source": [
    "plt.plot(Xtrain[7000, :, :])"
   ],
   "metadata": {
    "collapsed": false,
    "ExecuteTime": {
     "start_time": "2023-04-10T13:56:06.988783Z",
     "end_time": "2023-04-10T13:56:07.341978Z"
    }
   }
  },
  {
   "cell_type": "code",
   "execution_count": 6,
   "outputs": [
    {
     "name": "stderr",
     "output_type": "stream",
     "text": [
      "2023-04-10 13:56:14.341189: I tensorflow/compiler/xla/stream_executor/cuda/cuda_gpu_executor.cc:981] successful NUMA node read from SysFS had negative value (-1), but there must be at least one NUMA node, so returning NUMA node zero\n",
      "2023-04-10 13:56:14.341474: W tensorflow/compiler/xla/stream_executor/platform/default/dso_loader.cc:64] Could not load dynamic library 'libcudart.so.11.0'; dlerror: libcudart.so.11.0: cannot open shared object file: No such file or directory\n",
      "2023-04-10 13:56:14.341559: W tensorflow/compiler/xla/stream_executor/platform/default/dso_loader.cc:64] Could not load dynamic library 'libcublas.so.11'; dlerror: libcublas.so.11: cannot open shared object file: No such file or directory\n",
      "2023-04-10 13:56:14.341627: W tensorflow/compiler/xla/stream_executor/platform/default/dso_loader.cc:64] Could not load dynamic library 'libcublasLt.so.11'; dlerror: libcublasLt.so.11: cannot open shared object file: No such file or directory\n",
      "2023-04-10 13:56:14.341692: W tensorflow/compiler/xla/stream_executor/platform/default/dso_loader.cc:64] Could not load dynamic library 'libcufft.so.10'; dlerror: libcufft.so.10: cannot open shared object file: No such file or directory\n",
      "2023-04-10 13:56:14.341768: W tensorflow/compiler/xla/stream_executor/platform/default/dso_loader.cc:64] Could not load dynamic library 'libcurand.so.10'; dlerror: libcurand.so.10: cannot open shared object file: No such file or directory\n",
      "2023-04-10 13:56:14.341831: W tensorflow/compiler/xla/stream_executor/platform/default/dso_loader.cc:64] Could not load dynamic library 'libcusolver.so.11'; dlerror: libcusolver.so.11: cannot open shared object file: No such file or directory\n",
      "2023-04-10 13:56:14.341894: W tensorflow/compiler/xla/stream_executor/platform/default/dso_loader.cc:64] Could not load dynamic library 'libcusparse.so.11'; dlerror: libcusparse.so.11: cannot open shared object file: No such file or directory\n",
      "2023-04-10 13:56:14.341957: W tensorflow/compiler/xla/stream_executor/platform/default/dso_loader.cc:64] Could not load dynamic library 'libcudnn.so.8'; dlerror: libcudnn.so.8: cannot open shared object file: No such file or directory\n",
      "2023-04-10 13:56:14.341966: W tensorflow/core/common_runtime/gpu/gpu_device.cc:1934] Cannot dlopen some GPU libraries. Please make sure the missing libraries mentioned above are installed properly if you would like to use GPU. Follow the guide at https://www.tensorflow.org/install/gpu for how to download and setup the required libraries for your platform.\n",
      "Skipping registering GPU devices...\n",
      "2023-04-10 13:56:14.342906: I tensorflow/core/platform/cpu_feature_guard.cc:193] This TensorFlow binary is optimized with oneAPI Deep Neural Network Library (oneDNN) to use the following CPU instructions in performance-critical operations:  AVX2 FMA\n",
      "To enable them in other operations, rebuild TensorFlow with the appropriate compiler flags.\n"
     ]
    }
   ],
   "source": [
    "# RNN\n",
    "i = Input(shape=(T, D))\n",
    "x = LSTM(32, return_sequences=True)(i)\n",
    "x = GlobalMaxPooling1D()(x)\n",
    "x = Dense(K)(x)\n",
    "model = Model(i, x)"
   ],
   "metadata": {
    "collapsed": false,
    "ExecuteTime": {
     "start_time": "2023-04-10T13:56:14.246341Z",
     "end_time": "2023-04-10T13:56:14.732035Z"
    }
   }
  },
  {
   "cell_type": "code",
   "execution_count": 7,
   "outputs": [
    {
     "name": "stdout",
     "output_type": "stream",
     "text": [
      "Model: \"model\"\n",
      "_________________________________________________________________\n",
      " Layer (type)                Output Shape              Param #   \n",
      "=================================================================\n",
      " input_1 (InputLayer)        [(None, 128, 9)]          0         \n",
      "                                                                 \n",
      " lstm (LSTM)                 (None, 128, 32)           5376      \n",
      "                                                                 \n",
      " global_max_pooling1d (Globa  (None, 32)               0         \n",
      " lMaxPooling1D)                                                  \n",
      "                                                                 \n",
      " dense (Dense)               (None, 6)                 198       \n",
      "                                                                 \n",
      "=================================================================\n",
      "Total params: 5,574\n",
      "Trainable params: 5,574\n",
      "Non-trainable params: 0\n",
      "_________________________________________________________________\n"
     ]
    }
   ],
   "source": [
    "model.summary()"
   ],
   "metadata": {
    "collapsed": false,
    "ExecuteTime": {
     "start_time": "2023-04-10T13:56:14.728098Z",
     "end_time": "2023-04-10T13:56:14.781069Z"
    }
   }
  },
  {
   "cell_type": "code",
   "execution_count": 8,
   "outputs": [],
   "source": [
    "check_point = ModelCheckpoint('best_rnn_model1.h5', monitor='val_loss', save_best_only=True)"
   ],
   "metadata": {
    "collapsed": false,
    "ExecuteTime": {
     "start_time": "2023-04-10T13:56:15.499048Z",
     "end_time": "2023-04-10T13:56:15.503896Z"
    }
   }
  },
  {
   "cell_type": "code",
   "execution_count": 9,
   "outputs": [],
   "source": [
    "model.compile(\n",
    "    loss=SparseCategoricalCrossentropy(from_logits=True),\n",
    "    optimizer='adam',\n",
    "    metrics=['accuracy']\n",
    ")"
   ],
   "metadata": {
    "collapsed": false,
    "ExecuteTime": {
     "start_time": "2023-04-10T13:56:16.176140Z",
     "end_time": "2023-04-10T13:56:16.194599Z"
    }
   }
  },
  {
   "cell_type": "code",
   "execution_count": 10,
   "outputs": [
    {
     "name": "stdout",
     "output_type": "stream",
     "text": [
      "Epoch 1/10\n",
      "230/230 [==============================] - 11s 40ms/step - loss: 1.5274 - accuracy: 0.3917 - val_loss: 1.8738 - val_accuracy: 0.1805\n",
      "Epoch 2/10\n",
      "230/230 [==============================] - 8s 37ms/step - loss: 1.4081 - accuracy: 0.4416 - val_loss: 1.9452 - val_accuracy: 0.1805\n",
      "Epoch 3/10\n",
      "230/230 [==============================] - 9s 37ms/step - loss: 1.1923 - accuracy: 0.5491 - val_loss: 2.1664 - val_accuracy: 0.1805\n",
      "Epoch 4/10\n",
      "230/230 [==============================] - 9s 38ms/step - loss: 1.0713 - accuracy: 0.5520 - val_loss: 2.0840 - val_accuracy: 0.1809\n",
      "Epoch 5/10\n",
      "230/230 [==============================] - 9s 39ms/step - loss: 0.9613 - accuracy: 0.5940 - val_loss: 2.5540 - val_accuracy: 0.1805\n",
      "Epoch 6/10\n",
      "230/230 [==============================] - 9s 39ms/step - loss: 0.9075 - accuracy: 0.6205 - val_loss: 2.5721 - val_accuracy: 0.1819\n",
      "Epoch 7/10\n",
      "230/230 [==============================] - 9s 39ms/step - loss: 0.8776 - accuracy: 0.6450 - val_loss: 2.5657 - val_accuracy: 0.1822\n",
      "Epoch 8/10\n",
      "230/230 [==============================] - 9s 40ms/step - loss: 0.8596 - accuracy: 0.6438 - val_loss: 2.7531 - val_accuracy: 0.1805\n",
      "Epoch 9/10\n",
      "230/230 [==============================] - 9s 40ms/step - loss: 0.8415 - accuracy: 0.6525 - val_loss: 2.8014 - val_accuracy: 0.1812\n",
      "Epoch 10/10\n",
      "230/230 [==============================] - 9s 40ms/step - loss: 0.8321 - accuracy: 0.6498 - val_loss: 2.6697 - val_accuracy: 0.2056\n"
     ]
    }
   ],
   "source": [
    "r = model.fit(\n",
    "    Xtrain,\n",
    "    Ytrain,\n",
    "    epochs=10,\n",
    "    callbacks=[check_point],\n",
    "    validation_data=(Xtest, Ytest)\n",
    ")"
   ],
   "metadata": {
    "collapsed": false,
    "ExecuteTime": {
     "start_time": "2023-04-10T13:56:16.729032Z",
     "end_time": "2023-04-10T13:57:48.131355Z"
    }
   }
  },
  {
   "cell_type": "code",
   "execution_count": 11,
   "outputs": [
    {
     "data": {
      "text/plain": "<Figure size 640x480 with 1 Axes>",
      "image/png": "[encoded data removed]"
     },
     "metadata": {},
     "output_type": "display_data"
    }
   ],
   "source": [
    "plt.plot(r.history['loss'], label='train loss')\n",
    "plt.plot(r.history['val_loss'], label='test loss')\n",
    "plt.legend();"
   ],
   "metadata": {
    "collapsed": false,
    "ExecuteTime": {
     "start_time": "2023-04-10T13:57:48.148164Z",
     "end_time": "2023-04-10T13:57:48.338408Z"
    }
   }
  },
  {
   "cell_type": "code",
   "execution_count": 12,
   "outputs": [
    {
     "data": {
      "text/plain": "<Figure size 640x480 with 1 Axes>",
      "image/png": "[encoded data removed]"
     },
     "metadata": {},
     "output_type": "display_data"
    }
   ],
   "source": [
    "plt.plot(r.history['accuracy'], label='train acc')\n",
    "plt.plot(r.history['val_accuracy'], label='test acc')\n",
    "plt.legend();"
   ],
   "metadata": {
    "collapsed": false,
    "ExecuteTime": {
     "start_time": "2023-04-10T13:57:48.341534Z",
     "end_time": "2023-04-10T13:57:48.522995Z"
    }
   }
  },
  {
   "cell_type": "code",
   "execution_count": 13,
   "outputs": [],
   "source": [
    "best_model = tf.keras.models.load_model('best_rnn_model1.h5')"
   ],
   "metadata": {
    "collapsed": false,
    "ExecuteTime": {
     "start_time": "2023-04-10T13:57:48.525939Z",
     "end_time": "2023-04-10T13:57:48.778569Z"
    }
   }
  },
  {
   "cell_type": "code",
   "execution_count": 14,
   "outputs": [
    {
     "name": "stdout",
     "output_type": "stream",
     "text": [
      "93/93 [==============================] - 1s 10ms/step\n"
     ]
    }
   ],
   "source": [
    "Ptest = best_model.predict(Xtest)"
   ],
   "metadata": {
    "collapsed": false,
    "ExecuteTime": {
     "start_time": "2023-04-10T13:57:48.782075Z",
     "end_time": "2023-04-10T13:57:50.184699Z"
    }
   }
  },
  {
   "cell_type": "code",
   "execution_count": 15,
   "outputs": [
    {
     "data": {
      "text/plain": "0.18052256532066507"
     },
     "execution_count": 15,
     "metadata": {},
     "output_type": "execute_result"
    }
   ],
   "source": [
    "np.mean(np.argmax(Ptest, axis=1) == Ytest.flatten())"
   ],
   "metadata": {
    "collapsed": false,
    "ExecuteTime": {
     "start_time": "2023-04-10T13:57:50.184528Z",
     "end_time": "2023-04-10T13:57:50.185087Z"
    }
   }
  },
  {
   "cell_type": "code",
   "execution_count": 16,
   "outputs": [],
   "source": [
    "from sklearn.preprocessing import StandardScaler\n",
    "\n",
    "def load_features():\n",
    "    df = pd.read_csv(\n",
    "        'UCI-HAR/UCI-HAR-Dataset/train/X_train.txt',\n",
    "        header=None,\n",
    "        delim_whitespace=True\n",
    "    )\n",
    "\n",
    "    feat_train = df.to_numpy()\n",
    "\n",
    "    df = pd.read_csv(\n",
    "        'UCI-HAR/UCI-HAR-Dataset/test/X_test.txt',\n",
    "        header=None,\n",
    "        delim_whitespace=True\n",
    "    )\n",
    "\n",
    "    feat_test = df.to_numpy()\n",
    "\n",
    "    scaler = StandardScaler()\n",
    "    feat_train = scaler.fit_transform(feat_train)\n",
    "    feat_test = scaler.fit_transform(feat_test)\n",
    "\n",
    "    return feat_train, feat_test"
   ],
   "metadata": {
    "collapsed": false,
    "ExecuteTime": {
     "start_time": "2023-04-10T13:57:50.184691Z",
     "end_time": "2023-04-10T13:57:50.607479Z"
    }
   }
  },
  {
   "cell_type": "code",
   "execution_count": null,
   "outputs": [],
   "source": [],
   "metadata": {
    "collapsed": false
   }
  }
 ],
 "metadata": {
  "kernelspec": {
   "display_name": "Python 3",
   "language": "python",
   "name": "python3"
  },
  "language_info": {
   "codemirror_mode": {
    "name": "ipython",
    "version": 2
   },
   "file_extension": ".py",
   "mimetype": "text/x-python",
   "name": "python",
   "nbconvert_exporter": "python",
   "pygments_lexer": "ipython2",
   "version": "2.7.6"
  }
 },
 "nbformat": 4,
 "nbformat_minor": 0
}
